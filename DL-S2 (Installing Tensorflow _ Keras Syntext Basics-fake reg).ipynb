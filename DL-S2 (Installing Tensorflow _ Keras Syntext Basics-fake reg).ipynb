{
 "cells": [
  {
   "cell_type": "markdown",
   "metadata": {},
   "source": [
    "___\n",
    "\n",
    "<p style=\"text-align: center;\"><img src=\"https://docs.google.com/uc?id=1lY0Uj5R04yMY3-ZppPWxqCr5pvBLYPnV\" class=\"img-fluid\" alt=\"CLRSWY\"></p>\n",
    "\n",
    "___"
   ]
  },
  {
   "cell_type": "markdown",
   "metadata": {},
   "source": [
    "<h1 style=\"text-align: center;\">Deep Learning<br><br>Session - 2<br><br>Installing Tensorflow & Keras Syntax Basics<br><br>Fake Reg<br><h1>"
   ]
  },
  {
   "cell_type": "markdown",
   "metadata": {},
   "source": [
    "# Installing Tensorflow"
   ]
  },
  {
   "cell_type": "code",
   "execution_count": 2,
   "metadata": {
    "ExecuteTime": {
     "end_time": "2022-09-29T19:01:16.422716Z",
     "start_time": "2022-09-29T19:01:16.178043Z"
    }
   },
   "outputs": [
    {
     "name": "stdout",
     "output_type": "stream",
     "text": [
      "Python 3.9.13\n"
     ]
    }
   ],
   "source": [
    "!python --version"
   ]
  },
  {
   "cell_type": "code",
   "execution_count": 1,
   "metadata": {
    "ExecuteTime": {
     "end_time": "2022-09-29T18:58:18.832598Z",
     "start_time": "2022-09-29T18:53:45.576383Z"
    }
   },
   "outputs": [
    {
     "name": "stdout",
     "output_type": "stream",
     "text": [
      "Collecting tensorflow\n",
      "  Downloading tensorflow-2.10.0-cp39-cp39-win_amd64.whl (455.9 MB)\n",
      "     ------------------------------------ 455.9/455.9 MB 680.8 kB/s eta 0:00:00\n",
      "Collecting tensorflow-io-gcs-filesystem>=0.23.1\n",
      "  Downloading tensorflow_io_gcs_filesystem-0.27.0-cp39-cp39-win_amd64.whl (1.5 MB)\n",
      "     ---------------------------------------- 1.5/1.5 MB 3.6 MB/s eta 0:00:00\n",
      "Collecting keras<2.11,>=2.10.0\n",
      "  Downloading keras-2.10.0-py2.py3-none-any.whl (1.7 MB)\n",
      "     ---------------------------------------- 1.7/1.7 MB 1.9 MB/s eta 0:00:00\n",
      "Requirement already satisfied: h5py>=2.9.0 in c:\\users\\mustafa\\anaconda3\\lib\\site-packages (from tensorflow) (3.7.0)\n",
      "Requirement already satisfied: packaging in c:\\users\\mustafa\\anaconda3\\lib\\site-packages (from tensorflow) (21.3)\n",
      "Requirement already satisfied: grpcio<2.0,>=1.24.3 in c:\\users\\mustafa\\anaconda3\\lib\\site-packages (from tensorflow) (1.42.0)\n",
      "Collecting termcolor>=1.1.0\n",
      "  Downloading termcolor-2.0.1-py3-none-any.whl (5.4 kB)\n",
      "Collecting tensorflow-estimator<2.11,>=2.10.0\n",
      "  Downloading tensorflow_estimator-2.10.0-py2.py3-none-any.whl (438 kB)\n",
      "     ------------------------------------ 438.7/438.7 kB 885.2 kB/s eta 0:00:00\n",
      "Collecting tensorboard<2.11,>=2.10\n",
      "  Downloading tensorboard-2.10.1-py3-none-any.whl (5.9 MB)\n",
      "     ---------------------------------------- 5.9/5.9 MB 2.2 MB/s eta 0:00:00\n",
      "Collecting google-pasta>=0.1.1\n",
      "  Downloading google_pasta-0.2.0-py3-none-any.whl (57 kB)\n",
      "     ---------------------------------------- 57.5/57.5 kB 3.1 MB/s eta 0:00:00\n",
      "Collecting astunparse>=1.6.0\n",
      "  Downloading astunparse-1.6.3-py2.py3-none-any.whl (12 kB)\n",
      "Collecting opt-einsum>=2.3.2\n",
      "  Downloading opt_einsum-3.3.0-py3-none-any.whl (65 kB)\n",
      "     ---------------------------------------- 65.5/65.5 kB 3.5 MB/s eta 0:00:00\n",
      "Collecting flatbuffers>=2.0\n",
      "  Downloading flatbuffers-22.9.24-py2.py3-none-any.whl (26 kB)\n",
      "Requirement already satisfied: setuptools in c:\\users\\mustafa\\anaconda3\\lib\\site-packages (from tensorflow) (63.4.1)\n",
      "Collecting libclang>=13.0.0\n",
      "  Downloading libclang-14.0.6-py2.py3-none-win_amd64.whl (14.2 MB)\n",
      "     ---------------------------------------- 14.2/14.2 MB 2.7 MB/s eta 0:00:00\n",
      "Collecting absl-py>=1.0.0\n",
      "  Downloading absl_py-1.2.0-py3-none-any.whl (123 kB)\n",
      "     -------------------------------------- 123.4/123.4 kB 2.4 MB/s eta 0:00:00\n",
      "Collecting gast<=0.4.0,>=0.2.1\n",
      "  Downloading gast-0.4.0-py3-none-any.whl (9.8 kB)\n",
      "Requirement already satisfied: wrapt>=1.11.0 in c:\\users\\mustafa\\anaconda3\\lib\\site-packages (from tensorflow) (1.12.1)\n",
      "Collecting keras-preprocessing>=1.1.1\n",
      "  Downloading Keras_Preprocessing-1.1.2-py2.py3-none-any.whl (42 kB)\n",
      "     ---------------------------------------- 42.6/42.6 kB 2.0 MB/s eta 0:00:00\n",
      "Requirement already satisfied: numpy>=1.20 in c:\\users\\mustafa\\anaconda3\\lib\\site-packages (from tensorflow) (1.23.3)\n",
      "Collecting protobuf<3.20,>=3.9.2\n",
      "  Downloading protobuf-3.19.5-cp39-cp39-win_amd64.whl (895 kB)\n",
      "     -------------------------------------- 895.9/895.9 kB 2.3 MB/s eta 0:00:00\n",
      "Requirement already satisfied: six>=1.12.0 in c:\\users\\mustafa\\anaconda3\\lib\\site-packages (from tensorflow) (1.16.0)\n",
      "Requirement already satisfied: typing-extensions>=3.6.6 in c:\\users\\mustafa\\anaconda3\\lib\\site-packages (from tensorflow) (4.3.0)\n",
      "Requirement already satisfied: wheel<1.0,>=0.23.0 in c:\\users\\mustafa\\anaconda3\\lib\\site-packages (from astunparse>=1.6.0->tensorflow) (0.37.1)\n",
      "Collecting tensorboard-data-server<0.7.0,>=0.6.0\n",
      "  Downloading tensorboard_data_server-0.6.1-py3-none-any.whl (2.4 kB)\n",
      "Requirement already satisfied: markdown>=2.6.8 in c:\\users\\mustafa\\anaconda3\\lib\\site-packages (from tensorboard<2.11,>=2.10->tensorflow) (3.3.4)\n",
      "Collecting google-auth-oauthlib<0.5,>=0.4.1\n",
      "  Downloading google_auth_oauthlib-0.4.6-py2.py3-none-any.whl (18 kB)\n",
      "Requirement already satisfied: google-auth<3,>=1.6.3 in c:\\users\\mustafa\\anaconda3\\lib\\site-packages (from tensorboard<2.11,>=2.10->tensorflow) (2.6.0)\n",
      "Requirement already satisfied: werkzeug>=1.0.1 in c:\\users\\mustafa\\anaconda3\\lib\\site-packages (from tensorboard<2.11,>=2.10->tensorflow) (2.0.3)\n",
      "Collecting tensorboard-plugin-wit>=1.6.0\n",
      "  Downloading tensorboard_plugin_wit-1.8.1-py3-none-any.whl (781 kB)\n",
      "     -------------------------------------- 781.3/781.3 kB 2.7 MB/s eta 0:00:00\n",
      "Requirement already satisfied: requests<3,>=2.21.0 in c:\\users\\mustafa\\anaconda3\\lib\\site-packages (from tensorboard<2.11,>=2.10->tensorflow) (2.28.1)\n",
      "Requirement already satisfied: pyparsing!=3.0.5,>=2.0.2 in c:\\users\\mustafa\\anaconda3\\lib\\site-packages (from packaging->tensorflow) (3.0.9)\n",
      "Requirement already satisfied: pyasn1-modules>=0.2.1 in c:\\users\\mustafa\\anaconda3\\lib\\site-packages (from google-auth<3,>=1.6.3->tensorboard<2.11,>=2.10->tensorflow) (0.2.8)\n",
      "Requirement already satisfied: cachetools<6.0,>=2.0.0 in c:\\users\\mustafa\\anaconda3\\lib\\site-packages (from google-auth<3,>=1.6.3->tensorboard<2.11,>=2.10->tensorflow) (4.2.2)\n",
      "Requirement already satisfied: rsa<5,>=3.1.4 in c:\\users\\mustafa\\anaconda3\\lib\\site-packages (from google-auth<3,>=1.6.3->tensorboard<2.11,>=2.10->tensorflow) (4.7.2)\n",
      "Collecting requests-oauthlib>=0.7.0\n",
      "  Downloading requests_oauthlib-1.3.1-py2.py3-none-any.whl (23 kB)\n",
      "Requirement already satisfied: charset-normalizer<3,>=2 in c:\\users\\mustafa\\anaconda3\\lib\\site-packages (from requests<3,>=2.21.0->tensorboard<2.11,>=2.10->tensorflow) (2.0.4)\n",
      "Requirement already satisfied: urllib3<1.27,>=1.21.1 in c:\\users\\mustafa\\anaconda3\\lib\\site-packages (from requests<3,>=2.21.0->tensorboard<2.11,>=2.10->tensorflow) (1.26.11)\n",
      "Requirement already satisfied: idna<4,>=2.5 in c:\\users\\mustafa\\anaconda3\\lib\\site-packages (from requests<3,>=2.21.0->tensorboard<2.11,>=2.10->tensorflow) (3.3)\n",
      "Requirement already satisfied: certifi>=2017.4.17 in c:\\users\\mustafa\\anaconda3\\lib\\site-packages (from requests<3,>=2.21.0->tensorboard<2.11,>=2.10->tensorflow) (2022.9.24)\n",
      "Requirement already satisfied: pyasn1<0.5.0,>=0.4.6 in c:\\users\\mustafa\\anaconda3\\lib\\site-packages (from pyasn1-modules>=0.2.1->google-auth<3,>=1.6.3->tensorboard<2.11,>=2.10->tensorflow) (0.4.8)\n",
      "Collecting oauthlib>=3.0.0\n",
      "  Downloading oauthlib-3.2.1-py3-none-any.whl (151 kB)\n",
      "     -------------------------------------- 151.7/151.7 kB 3.0 MB/s eta 0:00:00\n",
      "Installing collected packages: tensorboard-plugin-wit, libclang, keras, flatbuffers, termcolor, tensorflow-io-gcs-filesystem, tensorflow-estimator, tensorboard-data-server, protobuf, opt-einsum, oauthlib, keras-preprocessing, google-pasta, gast, astunparse, absl-py, requests-oauthlib, google-auth-oauthlib, tensorboard, tensorflow\n",
      "  Attempting uninstall: protobuf\n",
      "    Found existing installation: protobuf 4.21.6\n",
      "    Uninstalling protobuf-4.21.6:\n",
      "      Successfully uninstalled protobuf-4.21.6\n",
      "Successfully installed absl-py-1.2.0 astunparse-1.6.3 flatbuffers-22.9.24 gast-0.4.0 google-auth-oauthlib-0.4.6 google-pasta-0.2.0 keras-2.10.0 keras-preprocessing-1.1.2 libclang-14.0.6 oauthlib-3.2.1 opt-einsum-3.3.0 protobuf-3.19.5 requests-oauthlib-1.3.1 tensorboard-2.10.1 tensorboard-data-server-0.6.1 tensorboard-plugin-wit-1.8.1 tensorflow-2.10.0 tensorflow-estimator-2.10.0 tensorflow-io-gcs-filesystem-0.27.0 termcolor-2.0.1\n"
     ]
    }
   ],
   "source": [
    "!pip install tensorflow"
   ]
  },
  {
   "cell_type": "code",
   "execution_count": 3,
   "metadata": {
    "ExecuteTime": {
     "end_time": "2022-09-29T19:01:59.070983Z",
     "start_time": "2022-09-29T19:01:51.003966Z"
    }
   },
   "outputs": [
    {
     "data": {
      "text/plain": [
       "'2.10.0'"
      ]
     },
     "execution_count": 3,
     "metadata": {},
     "output_type": "execute_result"
    }
   ],
   "source": [
    "import tensorflow as tf\n",
    "tf.__version__"
   ]
  },
  {
   "cell_type": "markdown",
   "metadata": {},
   "source": [
    "# Keras Syntax Basics"
   ]
  },
  {
   "cell_type": "code",
   "execution_count": 4,
   "metadata": {
    "ExecuteTime": {
     "end_time": "2022-09-29T19:02:22.238970Z",
     "start_time": "2022-09-29T19:02:20.202367Z"
    }
   },
   "outputs": [
    {
     "name": "stderr",
     "output_type": "stream",
     "text": [
      "<frozen importlib._bootstrap>:228: RuntimeWarning: scipy._lib.messagestream.MessageStream size changed, may indicate binary incompatibility. Expected 56 from C header, got 64 from PyObject\n"
     ]
    }
   ],
   "source": [
    "import numpy as np\n",
    "import pandas as pd\n",
    "import matplotlib.pyplot as plt\n",
    "import seaborn as sns\n",
    "\n",
    "import warnings\n",
    "\n",
    "warnings.filterwarnings(\"ignore\")\n",
    "warnings.warn(\"this will not show\")\n",
    "\n",
    "plt.rcParams[\"figure.figsize\"] = (10, 6)\n",
    "\n",
    "sns.set_style(\"whitegrid\")\n",
    "pd.set_option('display.float_format', lambda x: '%.3f' % x)\n",
    "\n",
    "# Set it None to display all rows in the dataframe\n",
    "# pd.set_option('display.max_rows', None)\n",
    "\n",
    "# Set it to None to display all columns in the dataframe\n",
    "pd.set_option('display.max_columns', None)"
   ]
  },
  {
   "cell_type": "code",
   "execution_count": 5,
   "metadata": {},
   "outputs": [],
   "source": [
    "#from google.colab import drive\n",
    "#drive.mount('/content/drive')"
   ]
  },
  {
   "cell_type": "code",
   "execution_count": 6,
   "metadata": {},
   "outputs": [],
   "source": [
    "#df = pd.read_csv(\"drive/MyDrive/Colab_Files/data/fake_reg.csv\")"
   ]
  },
  {
   "cell_type": "code",
   "execution_count": 5,
   "metadata": {
    "ExecuteTime": {
     "end_time": "2022-09-29T19:03:17.624932Z",
     "start_time": "2022-09-29T19:03:17.540998Z"
    }
   },
   "outputs": [],
   "source": [
    "df = pd.read_csv(\"fake_reg.csv\")"
   ]
  },
  {
   "cell_type": "markdown",
   "metadata": {},
   "source": [
    "## Exploratory Data Analysis and Visualization"
   ]
  },
  {
   "cell_type": "code",
   "execution_count": 6,
   "metadata": {
    "ExecuteTime": {
     "end_time": "2022-09-29T19:03:29.659237Z",
     "start_time": "2022-09-29T19:03:29.627669Z"
    }
   },
   "outputs": [
    {
     "data": {
      "text/html": [
       "<div>\n",
       "<style scoped>\n",
       "    .dataframe tbody tr th:only-of-type {\n",
       "        vertical-align: middle;\n",
       "    }\n",
       "\n",
       "    .dataframe tbody tr th {\n",
       "        vertical-align: top;\n",
       "    }\n",
       "\n",
       "    .dataframe thead th {\n",
       "        text-align: right;\n",
       "    }\n",
       "</style>\n",
       "<table border=\"1\" class=\"dataframe\">\n",
       "  <thead>\n",
       "    <tr style=\"text-align: right;\">\n",
       "      <th></th>\n",
       "      <th>price</th>\n",
       "      <th>feature1</th>\n",
       "      <th>feature2</th>\n",
       "    </tr>\n",
       "  </thead>\n",
       "  <tbody>\n",
       "    <tr>\n",
       "      <th>0</th>\n",
       "      <td>461.528</td>\n",
       "      <td>999.788</td>\n",
       "      <td>999.766</td>\n",
       "    </tr>\n",
       "    <tr>\n",
       "      <th>1</th>\n",
       "      <td>548.130</td>\n",
       "      <td>998.862</td>\n",
       "      <td>1001.042</td>\n",
       "    </tr>\n",
       "    <tr>\n",
       "      <th>2</th>\n",
       "      <td>410.297</td>\n",
       "      <td>1000.070</td>\n",
       "      <td>998.844</td>\n",
       "    </tr>\n",
       "    <tr>\n",
       "      <th>3</th>\n",
       "      <td>540.382</td>\n",
       "      <td>999.952</td>\n",
       "      <td>1000.441</td>\n",
       "    </tr>\n",
       "    <tr>\n",
       "      <th>4</th>\n",
       "      <td>546.025</td>\n",
       "      <td>1000.446</td>\n",
       "      <td>1000.339</td>\n",
       "    </tr>\n",
       "  </tbody>\n",
       "</table>\n",
       "</div>"
      ],
      "text/plain": [
       "    price  feature1  feature2\n",
       "0 461.528   999.788   999.766\n",
       "1 548.130   998.862  1001.042\n",
       "2 410.297  1000.070   998.844\n",
       "3 540.382   999.952  1000.441\n",
       "4 546.025  1000.446  1000.339"
      ]
     },
     "execution_count": 6,
     "metadata": {},
     "output_type": "execute_result"
    }
   ],
   "source": [
    "df.head()"
   ]
  },
  {
   "cell_type": "code",
   "execution_count": 7,
   "metadata": {
    "ExecuteTime": {
     "end_time": "2022-09-29T19:03:31.267082Z",
     "start_time": "2022-09-29T19:03:31.232898Z"
    }
   },
   "outputs": [
    {
     "name": "stdout",
     "output_type": "stream",
     "text": [
      "<class 'pandas.core.frame.DataFrame'>\n",
      "RangeIndex: 1000 entries, 0 to 999\n",
      "Data columns (total 3 columns):\n",
      " #   Column    Non-Null Count  Dtype  \n",
      "---  ------    --------------  -----  \n",
      " 0   price     1000 non-null   float64\n",
      " 1   feature1  1000 non-null   float64\n",
      " 2   feature2  1000 non-null   float64\n",
      "dtypes: float64(3)\n",
      "memory usage: 23.6 KB\n"
     ]
    }
   ],
   "source": [
    "df.info()"
   ]
  },
  {
   "cell_type": "code",
   "execution_count": 8,
   "metadata": {
    "ExecuteTime": {
     "end_time": "2022-09-29T19:03:34.119177Z",
     "start_time": "2022-09-29T19:03:34.087210Z"
    }
   },
   "outputs": [
    {
     "data": {
      "text/html": [
       "<div>\n",
       "<style scoped>\n",
       "    .dataframe tbody tr th:only-of-type {\n",
       "        vertical-align: middle;\n",
       "    }\n",
       "\n",
       "    .dataframe tbody tr th {\n",
       "        vertical-align: top;\n",
       "    }\n",
       "\n",
       "    .dataframe thead th {\n",
       "        text-align: right;\n",
       "    }\n",
       "</style>\n",
       "<table border=\"1\" class=\"dataframe\">\n",
       "  <thead>\n",
       "    <tr style=\"text-align: right;\">\n",
       "      <th></th>\n",
       "      <th>count</th>\n",
       "      <th>mean</th>\n",
       "      <th>std</th>\n",
       "      <th>min</th>\n",
       "      <th>25%</th>\n",
       "      <th>50%</th>\n",
       "      <th>75%</th>\n",
       "      <th>max</th>\n",
       "    </tr>\n",
       "  </thead>\n",
       "  <tbody>\n",
       "    <tr>\n",
       "      <th>price</th>\n",
       "      <td>1000.000</td>\n",
       "      <td>498.673</td>\n",
       "      <td>93.785</td>\n",
       "      <td>223.347</td>\n",
       "      <td>433.026</td>\n",
       "      <td>502.382</td>\n",
       "      <td>564.922</td>\n",
       "      <td>774.408</td>\n",
       "    </tr>\n",
       "    <tr>\n",
       "      <th>feature1</th>\n",
       "      <td>1000.000</td>\n",
       "      <td>1000.014</td>\n",
       "      <td>0.974</td>\n",
       "      <td>997.058</td>\n",
       "      <td>999.332</td>\n",
       "      <td>1000.010</td>\n",
       "      <td>1000.638</td>\n",
       "      <td>1003.208</td>\n",
       "    </tr>\n",
       "    <tr>\n",
       "      <th>feature2</th>\n",
       "      <td>1000.000</td>\n",
       "      <td>999.980</td>\n",
       "      <td>0.948</td>\n",
       "      <td>996.996</td>\n",
       "      <td>999.316</td>\n",
       "      <td>1000.002</td>\n",
       "      <td>1000.645</td>\n",
       "      <td>1002.666</td>\n",
       "    </tr>\n",
       "  </tbody>\n",
       "</table>\n",
       "</div>"
      ],
      "text/plain": [
       "            count     mean    std     min     25%      50%      75%      max\n",
       "price    1000.000  498.673 93.785 223.347 433.026  502.382  564.922  774.408\n",
       "feature1 1000.000 1000.014  0.974 997.058 999.332 1000.010 1000.638 1003.208\n",
       "feature2 1000.000  999.980  0.948 996.996 999.316 1000.002 1000.645 1002.666"
      ]
     },
     "execution_count": 8,
     "metadata": {},
     "output_type": "execute_result"
    }
   ],
   "source": [
    "df.describe().T"
   ]
  },
  {
   "cell_type": "code",
   "execution_count": 9,
   "metadata": {
    "ExecuteTime": {
     "end_time": "2022-09-29T19:03:39.974143Z",
     "start_time": "2022-09-29T19:03:37.726655Z"
    }
   },
   "outputs": [
    {
     "data": {
      "image/png": "[encoded data removed]",
      "text/plain": [
       "<Figure size 750x750 with 12 Axes>"
      ]
     },
     "metadata": {},
     "output_type": "display_data"
    }
   ],
   "source": [
    "sns.pairplot(df);"
   ]
  },
  {
   "cell_type": "code",
   "execution_count": 10,
   "metadata": {
    "ExecuteTime": {
     "end_time": "2022-09-29T19:03:41.816866Z",
     "start_time": "2022-09-29T19:03:41.795863Z"
    }
   },
   "outputs": [
    {
     "data": {
      "text/html": [
       "<div>\n",
       "<style scoped>\n",
       "    .dataframe tbody tr th:only-of-type {\n",
       "        vertical-align: middle;\n",
       "    }\n",
       "\n",
       "    .dataframe tbody tr th {\n",
       "        vertical-align: top;\n",
       "    }\n",
       "\n",
       "    .dataframe thead th {\n",
       "        text-align: right;\n",
       "    }\n",
       "</style>\n",
       "<table border=\"1\" class=\"dataframe\">\n",
       "  <thead>\n",
       "    <tr style=\"text-align: right;\">\n",
       "      <th></th>\n",
       "      <th>price</th>\n",
       "      <th>feature1</th>\n",
       "      <th>feature2</th>\n",
       "    </tr>\n",
       "  </thead>\n",
       "  <tbody>\n",
       "    <tr>\n",
       "      <th>price</th>\n",
       "      <td>1.000</td>\n",
       "      <td>0.444</td>\n",
       "      <td>0.908</td>\n",
       "    </tr>\n",
       "    <tr>\n",
       "      <th>feature1</th>\n",
       "      <td>0.444</td>\n",
       "      <td>1.000</td>\n",
       "      <td>0.031</td>\n",
       "    </tr>\n",
       "    <tr>\n",
       "      <th>feature2</th>\n",
       "      <td>0.908</td>\n",
       "      <td>0.031</td>\n",
       "      <td>1.000</td>\n",
       "    </tr>\n",
       "  </tbody>\n",
       "</table>\n",
       "</div>"
      ],
      "text/plain": [
       "          price  feature1  feature2\n",
       "price     1.000     0.444     0.908\n",
       "feature1  0.444     1.000     0.031\n",
       "feature2  0.908     0.031     1.000"
      ]
     },
     "execution_count": 10,
     "metadata": {},
     "output_type": "execute_result"
    }
   ],
   "source": [
    "df.corr()"
   ]
  },
  {
   "cell_type": "markdown",
   "metadata": {},
   "source": [
    "## Preprocessing of Data\n",
    "- Train | Test Split, Scalling"
   ]
  },
  {
   "cell_type": "code",
   "execution_count": 11,
   "metadata": {
    "ExecuteTime": {
     "end_time": "2022-09-29T19:03:53.414791Z",
     "start_time": "2022-09-29T19:03:53.108948Z"
    }
   },
   "outputs": [],
   "source": [
    "from sklearn.model_selection import train_test_split"
   ]
  },
  {
   "cell_type": "code",
   "execution_count": 82,
   "metadata": {},
   "outputs": [],
   "source": [
    "# X = df[['feature1', 'feature2']].values  # convert to array\n",
    "# y = df['price'].values\n",
    "\n",
    "# We will use scaling later so we dont need array now, also scaling convert to array"
   ]
  },
  {
   "cell_type": "code",
   "execution_count": 12,
   "metadata": {
    "ExecuteTime": {
     "end_time": "2022-09-29T19:09:32.227590Z",
     "start_time": "2022-09-29T19:09:32.111066Z"
    }
   },
   "outputs": [],
   "source": [
    "X = df[['feature1', 'feature2']] \n",
    "y = df['price']"
   ]
  },
  {
   "cell_type": "code",
   "execution_count": 13,
   "metadata": {
    "ExecuteTime": {
     "end_time": "2022-09-29T19:09:33.546781Z",
     "start_time": "2022-09-29T19:09:33.485581Z"
    }
   },
   "outputs": [
    {
     "data": {
      "text/html": [
       "<div>\n",
       "<style scoped>\n",
       "    .dataframe tbody tr th:only-of-type {\n",
       "        vertical-align: middle;\n",
       "    }\n",
       "\n",
       "    .dataframe tbody tr th {\n",
       "        vertical-align: top;\n",
       "    }\n",
       "\n",
       "    .dataframe thead th {\n",
       "        text-align: right;\n",
       "    }\n",
       "</style>\n",
       "<table border=\"1\" class=\"dataframe\">\n",
       "  <thead>\n",
       "    <tr style=\"text-align: right;\">\n",
       "      <th></th>\n",
       "      <th>feature1</th>\n",
       "      <th>feature2</th>\n",
       "    </tr>\n",
       "  </thead>\n",
       "  <tbody>\n",
       "    <tr>\n",
       "      <th>0</th>\n",
       "      <td>999.788</td>\n",
       "      <td>999.766</td>\n",
       "    </tr>\n",
       "    <tr>\n",
       "      <th>1</th>\n",
       "      <td>998.862</td>\n",
       "      <td>1001.042</td>\n",
       "    </tr>\n",
       "    <tr>\n",
       "      <th>2</th>\n",
       "      <td>1000.070</td>\n",
       "      <td>998.844</td>\n",
       "    </tr>\n",
       "    <tr>\n",
       "      <th>3</th>\n",
       "      <td>999.952</td>\n",
       "      <td>1000.441</td>\n",
       "    </tr>\n",
       "    <tr>\n",
       "      <th>4</th>\n",
       "      <td>1000.446</td>\n",
       "      <td>1000.339</td>\n",
       "    </tr>\n",
       "    <tr>\n",
       "      <th>...</th>\n",
       "      <td>...</td>\n",
       "      <td>...</td>\n",
       "    </tr>\n",
       "    <tr>\n",
       "      <th>995</th>\n",
       "      <td>1000.019</td>\n",
       "      <td>999.673</td>\n",
       "    </tr>\n",
       "    <tr>\n",
       "      <th>996</th>\n",
       "      <td>998.855</td>\n",
       "      <td>1000.020</td>\n",
       "    </tr>\n",
       "    <tr>\n",
       "      <th>997</th>\n",
       "      <td>1001.452</td>\n",
       "      <td>998.848</td>\n",
       "    </tr>\n",
       "    <tr>\n",
       "      <th>998</th>\n",
       "      <td>1000.771</td>\n",
       "      <td>998.563</td>\n",
       "    </tr>\n",
       "    <tr>\n",
       "      <th>999</th>\n",
       "      <td>999.232</td>\n",
       "      <td>1001.451</td>\n",
       "    </tr>\n",
       "  </tbody>\n",
       "</table>\n",
       "<p>1000 rows × 2 columns</p>\n",
       "</div>"
      ],
      "text/plain": [
       "     feature1  feature2\n",
       "0     999.788   999.766\n",
       "1     998.862  1001.042\n",
       "2    1000.070   998.844\n",
       "3     999.952  1000.441\n",
       "4    1000.446  1000.339\n",
       "..        ...       ...\n",
       "995  1000.019   999.673\n",
       "996   998.855  1000.020\n",
       "997  1001.452   998.848\n",
       "998  1000.771   998.563\n",
       "999   999.232  1001.451\n",
       "\n",
       "[1000 rows x 2 columns]"
      ]
     },
     "execution_count": 13,
     "metadata": {},
     "output_type": "execute_result"
    }
   ],
   "source": [
    "X"
   ]
  },
  {
   "cell_type": "code",
   "execution_count": 14,
   "metadata": {
    "ExecuteTime": {
     "end_time": "2022-09-29T19:09:35.856301Z",
     "start_time": "2022-09-29T19:09:35.830058Z"
    }
   },
   "outputs": [
    {
     "data": {
      "text/plain": [
       "0     461.528\n",
       "1     548.130\n",
       "2     410.297\n",
       "3     540.382\n",
       "4     546.025\n",
       "        ...  \n",
       "995   476.526\n",
       "996   457.313\n",
       "997   456.721\n",
       "998   403.316\n",
       "999   599.367\n",
       "Name: price, Length: 1000, dtype: float64"
      ]
     },
     "execution_count": 14,
     "metadata": {},
     "output_type": "execute_result"
    }
   ],
   "source": [
    "y"
   ]
  },
  {
   "cell_type": "code",
   "execution_count": 15,
   "metadata": {
    "ExecuteTime": {
     "end_time": "2022-09-29T19:09:40.945690Z",
     "start_time": "2022-09-29T19:09:40.891822Z"
    }
   },
   "outputs": [],
   "source": [
    "X_train, X_test, y_train, y_test = train_test_split(X,\n",
    "                                                    y,\n",
    "                                                    test_size=0.3,\n",
    "                                                    random_state=42)"
   ]
  },
  {
   "cell_type": "code",
   "execution_count": 16,
   "metadata": {
    "ExecuteTime": {
     "end_time": "2022-09-29T19:09:43.478470Z",
     "start_time": "2022-09-29T19:09:43.456027Z"
    }
   },
   "outputs": [
    {
     "data": {
      "text/plain": [
       "(700, 2)"
      ]
     },
     "execution_count": 16,
     "metadata": {},
     "output_type": "execute_result"
    }
   ],
   "source": [
    "X_train.shape"
   ]
  },
  {
   "cell_type": "code",
   "execution_count": 17,
   "metadata": {
    "ExecuteTime": {
     "end_time": "2022-09-29T19:09:44.256169Z",
     "start_time": "2022-09-29T19:09:44.247736Z"
    }
   },
   "outputs": [
    {
     "data": {
      "text/plain": [
       "(300, 2)"
      ]
     },
     "execution_count": 17,
     "metadata": {},
     "output_type": "execute_result"
    }
   ],
   "source": [
    "X_test.shape"
   ]
  },
  {
   "cell_type": "code",
   "execution_count": 18,
   "metadata": {
    "ExecuteTime": {
     "end_time": "2022-09-29T19:09:46.117941Z",
     "start_time": "2022-09-29T19:09:46.093154Z"
    }
   },
   "outputs": [],
   "source": [
    "from sklearn.preprocessing import MinMaxScaler"
   ]
  },
  {
   "cell_type": "code",
   "execution_count": 19,
   "metadata": {
    "ExecuteTime": {
     "end_time": "2022-09-29T19:09:50.479469Z",
     "start_time": "2022-09-29T19:09:50.431144Z"
    }
   },
   "outputs": [
    {
     "name": "stdout",
     "output_type": "stream",
     "text": [
      "Help on class MinMaxScaler in module sklearn.preprocessing._data:\n",
      "\n",
      "class MinMaxScaler(sklearn.base._OneToOneFeatureMixin, sklearn.base.TransformerMixin, sklearn.base.BaseEstimator)\n",
      " |  MinMaxScaler(feature_range=(0, 1), *, copy=True, clip=False)\n",
      " |  \n",
      " |  Transform features by scaling each feature to a given range.\n",
      " |  \n",
      " |  This estimator scales and translates each feature individually such\n",
      " |  that it is in the given range on the training set, e.g. between\n",
      " |  zero and one.\n",
      " |  \n",
      " |  The transformation is given by::\n",
      " |  \n",
      " |      X_std = (X - X.min(axis=0)) / (X.max(axis=0) - X.min(axis=0))\n",
      " |      X_scaled = X_std * (max - min) + min\n",
      " |  \n",
      " |  where min, max = feature_range.\n",
      " |  \n",
      " |  This transformation is often used as an alternative to zero mean,\n",
      " |  unit variance scaling.\n",
      " |  \n",
      " |  Read more in the :ref:`User Guide <preprocessing_scaler>`.\n",
      " |  \n",
      " |  Parameters\n",
      " |  ----------\n",
      " |  feature_range : tuple (min, max), default=(0, 1)\n",
      " |      Desired range of transformed data.\n",
      " |  \n",
      " |  copy : bool, default=True\n",
      " |      Set to False to perform inplace row normalization and avoid a\n",
      " |      copy (if the input is already a numpy array).\n",
      " |  \n",
      " |  clip : bool, default=False\n",
      " |      Set to True to clip transformed values of held-out data to\n",
      " |      provided `feature range`.\n",
      " |  \n",
      " |      .. versionadded:: 0.24\n",
      " |  \n",
      " |  Attributes\n",
      " |  ----------\n",
      " |  min_ : ndarray of shape (n_features,)\n",
      " |      Per feature adjustment for minimum. Equivalent to\n",
      " |      ``min - X.min(axis=0) * self.scale_``\n",
      " |  \n",
      " |  scale_ : ndarray of shape (n_features,)\n",
      " |      Per feature relative scaling of the data. Equivalent to\n",
      " |      ``(max - min) / (X.max(axis=0) - X.min(axis=0))``\n",
      " |  \n",
      " |      .. versionadded:: 0.17\n",
      " |         *scale_* attribute.\n",
      " |  \n",
      " |  data_min_ : ndarray of shape (n_features,)\n",
      " |      Per feature minimum seen in the data\n",
      " |  \n",
      " |      .. versionadded:: 0.17\n",
      " |         *data_min_*\n",
      " |  \n",
      " |  data_max_ : ndarray of shape (n_features,)\n",
      " |      Per feature maximum seen in the data\n",
      " |  \n",
      " |      .. versionadded:: 0.17\n",
      " |         *data_max_*\n",
      " |  \n",
      " |  data_range_ : ndarray of shape (n_features,)\n",
      " |      Per feature range ``(data_max_ - data_min_)`` seen in the data\n",
      " |  \n",
      " |      .. versionadded:: 0.17\n",
      " |         *data_range_*\n",
      " |  \n",
      " |  n_features_in_ : int\n",
      " |      Number of features seen during :term:`fit`.\n",
      " |  \n",
      " |      .. versionadded:: 0.24\n",
      " |  \n",
      " |  n_samples_seen_ : int\n",
      " |      The number of samples processed by the estimator.\n",
      " |      It will be reset on new calls to fit, but increments across\n",
      " |      ``partial_fit`` calls.\n",
      " |  \n",
      " |  feature_names_in_ : ndarray of shape (`n_features_in_`,)\n",
      " |      Names of features seen during :term:`fit`. Defined only when `X`\n",
      " |      has feature names that are all strings.\n",
      " |  \n",
      " |      .. versionadded:: 1.0\n",
      " |  \n",
      " |  See Also\n",
      " |  --------\n",
      " |  minmax_scale : Equivalent function without the estimator API.\n",
      " |  \n",
      " |  Notes\n",
      " |  -----\n",
      " |  NaNs are treated as missing values: disregarded in fit, and maintained in\n",
      " |  transform.\n",
      " |  \n",
      " |  For a comparison of the different scalers, transformers, and normalizers,\n",
      " |  see :ref:`examples/preprocessing/plot_all_scaling.py\n",
      " |  <sphx_glr_auto_examples_preprocessing_plot_all_scaling.py>`.\n",
      " |  \n",
      " |  Examples\n",
      " |  --------\n",
      " |  >>> from sklearn.preprocessing import MinMaxScaler\n",
      " |  >>> data = [[-1, 2], [-0.5, 6], [0, 10], [1, 18]]\n",
      " |  >>> scaler = MinMaxScaler()\n",
      " |  >>> print(scaler.fit(data))\n",
      " |  MinMaxScaler()\n",
      " |  >>> print(scaler.data_max_)\n",
      " |  [ 1. 18.]\n",
      " |  >>> print(scaler.transform(data))\n",
      " |  [[0.   0.  ]\n",
      " |   [0.25 0.25]\n",
      " |   [0.5  0.5 ]\n",
      " |   [1.   1.  ]]\n",
      " |  >>> print(scaler.transform([[2, 2]]))\n",
      " |  [[1.5 0. ]]\n",
      " |  \n",
      " |  Method resolution order:\n",
      " |      MinMaxScaler\n",
      " |      sklearn.base._OneToOneFeatureMixin\n",
      " |      sklearn.base.TransformerMixin\n",
      " |      sklearn.base.BaseEstimator\n",
      " |      builtins.object\n",
      " |  \n",
      " |  Methods defined here:\n",
      " |  \n",
      " |  __init__(self, feature_range=(0, 1), *, copy=True, clip=False)\n",
      " |      Initialize self.  See help(type(self)) for accurate signature.\n",
      " |  \n",
      " |  fit(self, X, y=None)\n",
      " |      Compute the minimum and maximum to be used for later scaling.\n",
      " |      \n",
      " |      Parameters\n",
      " |      ----------\n",
      " |      X : array-like of shape (n_samples, n_features)\n",
      " |          The data used to compute the per-feature minimum and maximum\n",
      " |          used for later scaling along the features axis.\n",
      " |      \n",
      " |      y : None\n",
      " |          Ignored.\n",
      " |      \n",
      " |      Returns\n",
      " |      -------\n",
      " |      self : object\n",
      " |          Fitted scaler.\n",
      " |  \n",
      " |  inverse_transform(self, X)\n",
      " |      Undo the scaling of X according to feature_range.\n",
      " |      \n",
      " |      Parameters\n",
      " |      ----------\n",
      " |      X : array-like of shape (n_samples, n_features)\n",
      " |          Input data that will be transformed. It cannot be sparse.\n",
      " |      \n",
      " |      Returns\n",
      " |      -------\n",
      " |      Xt : ndarray of shape (n_samples, n_features)\n",
      " |          Transformed data.\n",
      " |  \n",
      " |  partial_fit(self, X, y=None)\n",
      " |      Online computation of min and max on X for later scaling.\n",
      " |      \n",
      " |      All of X is processed as a single batch. This is intended for cases\n",
      " |      when :meth:`fit` is not feasible due to very large number of\n",
      " |      `n_samples` or because X is read from a continuous stream.\n",
      " |      \n",
      " |      Parameters\n",
      " |      ----------\n",
      " |      X : array-like of shape (n_samples, n_features)\n",
      " |          The data used to compute the mean and standard deviation\n",
      " |          used for later scaling along the features axis.\n",
      " |      \n",
      " |      y : None\n",
      " |          Ignored.\n",
      " |      \n",
      " |      Returns\n",
      " |      -------\n",
      " |      self : object\n",
      " |          Fitted scaler.\n",
      " |  \n",
      " |  transform(self, X)\n",
      " |      Scale features of X according to feature_range.\n",
      " |      \n",
      " |      Parameters\n",
      " |      ----------\n",
      " |      X : array-like of shape (n_samples, n_features)\n",
      " |          Input data that will be transformed.\n",
      " |      \n",
      " |      Returns\n",
      " |      -------\n",
      " |      Xt : ndarray of shape (n_samples, n_features)\n",
      " |          Transformed data.\n",
      " |  \n",
      " |  ----------------------------------------------------------------------\n",
      " |  Methods inherited from sklearn.base._OneToOneFeatureMixin:\n",
      " |  \n",
      " |  get_feature_names_out(self, input_features=None)\n",
      " |      Get output feature names for transformation.\n",
      " |      \n",
      " |      Parameters\n",
      " |      ----------\n",
      " |      input_features : array-like of str or None, default=None\n",
      " |          Input features.\n",
      " |      \n",
      " |          - If `input_features` is `None`, then `feature_names_in_` is\n",
      " |            used as feature names in. If `feature_names_in_` is not defined,\n",
      " |            then the following input feature names are generated:\n",
      " |            `[\"x0\", \"x1\", ..., \"x(n_features_in_ - 1)\"]`.\n",
      " |          - If `input_features` is an array-like, then `input_features` must\n",
      " |            match `feature_names_in_` if `feature_names_in_` is defined.\n",
      " |      \n",
      " |      Returns\n",
      " |      -------\n",
      " |      feature_names_out : ndarray of str objects\n",
      " |          Same as input features.\n",
      " |  \n",
      " |  ----------------------------------------------------------------------\n",
      " |  Data descriptors inherited from sklearn.base._OneToOneFeatureMixin:\n",
      " |  \n",
      " |  __dict__\n",
      " |      dictionary for instance variables (if defined)\n",
      " |  \n",
      " |  __weakref__\n",
      " |      list of weak references to the object (if defined)\n",
      " |  \n",
      " |  ----------------------------------------------------------------------\n",
      " |  Methods inherited from sklearn.base.TransformerMixin:\n",
      " |  \n",
      " |  fit_transform(self, X, y=None, **fit_params)\n",
      " |      Fit to data, then transform it.\n",
      " |      \n",
      " |      Fits transformer to `X` and `y` with optional parameters `fit_params`\n",
      " |      and returns a transformed version of `X`.\n",
      " |      \n",
      " |      Parameters\n",
      " |      ----------\n",
      " |      X : array-like of shape (n_samples, n_features)\n",
      " |          Input samples.\n",
      " |      \n",
      " |      y :  array-like of shape (n_samples,) or (n_samples, n_outputs),                 default=None\n",
      " |          Target values (None for unsupervised transformations).\n",
      " |      \n",
      " |      **fit_params : dict\n",
      " |          Additional fit parameters.\n",
      " |      \n",
      " |      Returns\n",
      " |      -------\n",
      " |      X_new : ndarray array of shape (n_samples, n_features_new)\n",
      " |          Transformed array.\n",
      " |  \n",
      " |  ----------------------------------------------------------------------\n",
      " |  Methods inherited from sklearn.base.BaseEstimator:\n",
      " |  \n",
      " |  __getstate__(self)\n",
      " |  \n",
      " |  __repr__(self, N_CHAR_MAX=700)\n",
      " |      Return repr(self).\n",
      " |  \n",
      " |  __setstate__(self, state)\n",
      " |  \n",
      " |  get_params(self, deep=True)\n",
      " |      Get parameters for this estimator.\n",
      " |      \n",
      " |      Parameters\n",
      " |      ----------\n",
      " |      deep : bool, default=True\n",
      " |          If True, will return the parameters for this estimator and\n",
      " |          contained subobjects that are estimators.\n",
      " |      \n",
      " |      Returns\n",
      " |      -------\n",
      " |      params : dict\n",
      " |          Parameter names mapped to their values.\n",
      " |  \n",
      " |  set_params(self, **params)\n",
      " |      Set the parameters of this estimator.\n",
      " |      \n",
      " |      The method works on simple estimators as well as on nested objects\n",
      " |      (such as :class:`~sklearn.pipeline.Pipeline`). The latter have\n",
      " |      parameters of the form ``<component>__<parameter>`` so that it's\n",
      " |      possible to update each component of a nested object.\n",
      " |      \n",
      " |      Parameters\n",
      " |      ----------\n",
      " |      **params : dict\n",
      " |          Estimator parameters.\n",
      " |      \n",
      " |      Returns\n",
      " |      -------\n",
      " |      self : estimator instance\n",
      " |          Estimator instance.\n",
      "\n"
     ]
    }
   ],
   "source": [
    "help(MinMaxScaler)"
   ]
  },
  {
   "cell_type": "code",
   "execution_count": 20,
   "metadata": {
    "ExecuteTime": {
     "end_time": "2022-09-29T19:09:53.248372Z",
     "start_time": "2022-09-29T19:09:53.231085Z"
    }
   },
   "outputs": [],
   "source": [
    "scaler = MinMaxScaler()"
   ]
  },
  {
   "cell_type": "code",
   "execution_count": 21,
   "metadata": {
    "ExecuteTime": {
     "end_time": "2022-09-29T19:09:56.176708Z",
     "start_time": "2022-09-29T19:09:56.112905Z"
    }
   },
   "outputs": [],
   "source": [
    "scaler.fit(X_train)\n",
    "X_train = scaler.transform(X_train)\n",
    "X_test = scaler.transform(X_test)"
   ]
  },
  {
   "cell_type": "markdown",
   "metadata": {},
   "source": [
    "## Modelling"
   ]
  },
  {
   "cell_type": "code",
   "execution_count": 22,
   "metadata": {
    "ExecuteTime": {
     "end_time": "2022-09-29T19:10:20.666817Z",
     "start_time": "2022-09-29T19:10:20.651913Z"
    }
   },
   "outputs": [],
   "source": [
    "import tensorflow as tf"
   ]
  },
  {
   "cell_type": "code",
   "execution_count": 23,
   "metadata": {
    "ExecuteTime": {
     "end_time": "2022-09-29T19:10:21.727579Z",
     "start_time": "2022-09-29T19:10:21.662740Z"
    }
   },
   "outputs": [],
   "source": [
    "from tensorflow.keras.models import Sequential\n",
    "from tensorflow.keras.layers import Input,Dense, Activation"
   ]
  },
  {
   "cell_type": "code",
   "execution_count": 90,
   "metadata": {},
   "outputs": [],
   "source": [
    "# help(Sequential)"
   ]
  },
  {
   "cell_type": "code",
   "execution_count": 91,
   "metadata": {},
   "outputs": [],
   "source": [
    "# help(Dense)"
   ]
  },
  {
   "cell_type": "code",
   "execution_count": 24,
   "metadata": {
    "ExecuteTime": {
     "end_time": "2022-09-29T19:11:13.052707Z",
     "start_time": "2022-09-29T19:11:13.031608Z"
    }
   },
   "outputs": [
    {
     "data": {
      "text/plain": [
       "(700, 2)"
      ]
     },
     "execution_count": 24,
     "metadata": {},
     "output_type": "execute_result"
    }
   ],
   "source": [
    "X_train.shape"
   ]
  },
  {
   "cell_type": "code",
   "execution_count": 25,
   "metadata": {
    "ExecuteTime": {
     "end_time": "2022-09-29T19:11:15.604607Z",
     "start_time": "2022-09-29T19:11:14.324602Z"
    }
   },
   "outputs": [],
   "source": [
    "# First way to create model\n",
    "\n",
    "model = Sequential([Input(shape = X_train.shape[1]),\n",
    "                    Dense(units = 4, activation = \"relu\"),\n",
    "                    Dense(units = 4, activation = \"relu\"),\n",
    "                    Dense(units = 4, activation = \"relu\"),\n",
    "                    Dense(units = 1)])"
   ]
  },
  {
   "cell_type": "code",
   "execution_count": 26,
   "metadata": {
    "ExecuteTime": {
     "end_time": "2022-09-29T19:11:20.482543Z",
     "start_time": "2022-09-29T19:11:20.287486Z"
    }
   },
   "outputs": [],
   "source": [
    "# Second way to create model (recommended)\n",
    "\n",
    "model = Sequential()\n",
    "#model.add(Input(shape = X_train.shape[1]))\n",
    "model.add(Dense(units = 4, activation = \"relu\", input_dim = X_train.shape[1]))\n",
    "model.add(Dense(units = 4, activation = \"relu\"))\n",
    "model.add(Dense(units = 4, activation = \"relu\"))\n",
    "model.add(Dense(units = 1))"
   ]
  },
  {
   "cell_type": "code",
   "execution_count": 27,
   "metadata": {
    "ExecuteTime": {
     "end_time": "2022-09-29T19:11:34.990496Z",
     "start_time": "2022-09-29T19:11:34.902522Z"
    }
   },
   "outputs": [
    {
     "name": "stdout",
     "output_type": "stream",
     "text": [
      "Model: \"sequential_1\"\n",
      "_________________________________________________________________\n",
      " Layer (type)                Output Shape              Param #   \n",
      "=================================================================\n",
      " dense_4 (Dense)             (None, 4)                 12        \n",
      "                                                                 \n",
      " dense_5 (Dense)             (None, 4)                 20        \n",
      "                                                                 \n",
      " dense_6 (Dense)             (None, 4)                 20        \n",
      "                                                                 \n",
      " dense_7 (Dense)             (None, 1)                 5         \n",
      "                                                                 \n",
      "=================================================================\n",
      "Total params: 57\n",
      "Trainable params: 57\n",
      "Non-trainable params: 0\n",
      "_________________________________________________________________\n"
     ]
    }
   ],
   "source": [
    "model.summary()"
   ]
  },
  {
   "cell_type": "code",
   "execution_count": 28,
   "metadata": {
    "ExecuteTime": {
     "end_time": "2022-09-29T19:23:20.958411Z",
     "start_time": "2022-09-29T19:23:20.640811Z"
    }
   },
   "outputs": [
    {
     "data": {
      "text/plain": [
       "[<tf.Variable 'dense_4/kernel:0' shape=(2, 4) dtype=float32, numpy=\n",
       " array([[ 0.41446614, -0.97569704, -0.6944213 , -0.11420798],\n",
       "        [ 0.6176572 ,  0.9583409 ,  0.4727404 ,  0.37517285]],\n",
       "       dtype=float32)>,\n",
       " <tf.Variable 'dense_4/bias:0' shape=(4,) dtype=float32, numpy=array([0., 0., 0., 0.], dtype=float32)>,\n",
       " <tf.Variable 'dense_5/kernel:0' shape=(4, 4) dtype=float32, numpy=\n",
       " array([[-0.18493545,  0.62749153,  0.50677866, -0.7397867 ],\n",
       "        [-0.6055788 , -0.3457309 ,  0.29751664, -0.3252117 ],\n",
       "        [ 0.22182328, -0.14161402, -0.74391127, -0.60780704],\n",
       "        [-0.16533756, -0.01254946,  0.31219703,  0.46136767]],\n",
       "       dtype=float32)>,\n",
       " <tf.Variable 'dense_5/bias:0' shape=(4,) dtype=float32, numpy=array([0., 0., 0., 0.], dtype=float32)>,\n",
       " <tf.Variable 'dense_6/kernel:0' shape=(4, 4) dtype=float32, numpy=\n",
       " array([[-0.14596242,  0.53093046,  0.74177295,  0.4172278 ],\n",
       "        [ 0.30272907, -0.5535372 ,  0.06755662,  0.1495561 ],\n",
       "        [ 0.74285036, -0.4835656 , -0.7027173 ,  0.12323493],\n",
       "        [-0.43628886,  0.40331084, -0.2268399 , -0.85438114]],\n",
       "       dtype=float32)>,\n",
       " <tf.Variable 'dense_6/bias:0' shape=(4,) dtype=float32, numpy=array([0., 0., 0., 0.], dtype=float32)>,\n",
       " <tf.Variable 'dense_7/kernel:0' shape=(4, 1) dtype=float32, numpy=\n",
       " array([[-0.22102123],\n",
       "        [-0.80113024],\n",
       "        [-0.1861887 ],\n",
       "        [ 0.3358531 ]], dtype=float32)>,\n",
       " <tf.Variable 'dense_7/bias:0' shape=(1,) dtype=float32, numpy=array([0.], dtype=float32)>]"
      ]
     },
     "execution_count": 28,
     "metadata": {},
     "output_type": "execute_result"
    }
   ],
   "source": [
    "model.weights"
   ]
  },
  {
   "cell_type": "markdown",
   "metadata": {},
   "source": [
    "### Choosing an optimizer and loss\n",
    "\n",
    "Keep in mind what kind of problem you are trying to solve:\n",
    "\n",
    "    # For a multi-class classification problem\n",
    "    model.compile(optimizer='rmsprop',\n",
    "                  loss='categorical_crossentropy',\n",
    "                  metrics=['accuracy'])\n",
    "\n",
    "    # For a binary classification problem\n",
    "    model.compile(optimizer='rmsprop',\n",
    "                  loss='binary_crossentropy',\n",
    "                  metrics=['accuracy'])\n",
    "\n",
    "    # For a mean squared error regression problem\n",
    "    model.compile(optimizer='rmsprop',\n",
    "                  loss='mse')"
   ]
  },
  {
   "cell_type": "code",
   "execution_count": 36,
   "metadata": {
    "ExecuteTime": {
     "end_time": "2022-09-29T19:26:17.407876Z",
     "start_time": "2022-09-29T19:26:17.338423Z"
    }
   },
   "outputs": [],
   "source": [
    "model.compile(optimizer = \"rmsprop\", loss = \"mse\")"
   ]
  },
  {
   "cell_type": "code",
   "execution_count": 37,
   "metadata": {
    "ExecuteTime": {
     "end_time": "2022-09-29T19:26:34.899353Z",
     "start_time": "2022-09-29T19:26:19.169476Z"
    }
   },
   "outputs": [
    {
     "name": "stdout",
     "output_type": "stream",
     "text": [
      "Epoch 1/250\n",
      "22/22 [==============================] - 1s 3ms/step - loss: 256732.6094\n",
      "Epoch 2/250\n",
      "22/22 [==============================] - 0s 4ms/step - loss: 256672.1875\n",
      "Epoch 3/250\n",
      "22/22 [==============================] - 0s 5ms/step - loss: 256620.9375\n",
      "Epoch 4/250\n",
      "22/22 [==============================] - 0s 3ms/step - loss: 256568.3438\n",
      "Epoch 5/250\n",
      "22/22 [==============================] - 0s 2ms/step - loss: 256509.1875\n",
      "Epoch 6/250\n",
      "22/22 [==============================] - 0s 2ms/step - loss: 256437.7812\n",
      "Epoch 7/250\n",
      "22/22 [==============================] - 0s 2ms/step - loss: 256354.7656\n",
      "Epoch 8/250\n",
      "22/22 [==============================] - 0s 2ms/step - loss: 256260.7344\n",
      "Epoch 9/250\n",
      "22/22 [==============================] - 0s 2ms/step - loss: 256154.8281\n",
      "Epoch 10/250\n",
      "22/22 [==============================] - 0s 4ms/step - loss: 256034.1875\n",
      "Epoch 11/250\n",
      "22/22 [==============================] - 0s 4ms/step - loss: 255897.9688\n",
      "Epoch 12/250\n",
      "22/22 [==============================] - 0s 2ms/step - loss: 255737.7812\n",
      "Epoch 13/250\n",
      "22/22 [==============================] - 0s 2ms/step - loss: 255550.6562\n",
      "Epoch 14/250\n",
      "22/22 [==============================] - 0s 2ms/step - loss: 255335.5938\n",
      "Epoch 15/250\n",
      "22/22 [==============================] - 0s 4ms/step - loss: 255088.6875\n",
      "Epoch 16/250\n",
      "22/22 [==============================] - 0s 3ms/step - loss: 254807.2188\n",
      "Epoch 17/250\n",
      "22/22 [==============================] - 0s 4ms/step - loss: 254488.9844\n",
      "Epoch 18/250\n",
      "22/22 [==============================] - 0s 7ms/step - loss: 254127.0156\n",
      "Epoch 19/250\n",
      "22/22 [==============================] - 0s 2ms/step - loss: 253721.2969\n",
      "Epoch 20/250\n",
      "22/22 [==============================] - 0s 3ms/step - loss: 253265.9844\n",
      "Epoch 21/250\n",
      "22/22 [==============================] - 0s 2ms/step - loss: 252760.7344\n",
      "Epoch 22/250\n",
      "22/22 [==============================] - 0s 4ms/step - loss: 252198.7812\n",
      "Epoch 23/250\n",
      "22/22 [==============================] - 0s 2ms/step - loss: 251580.2344\n",
      "Epoch 24/250\n",
      "22/22 [==============================] - 0s 2ms/step - loss: 250899.2031\n",
      "Epoch 25/250\n",
      "22/22 [==============================] - 0s 2ms/step - loss: 250146.3281\n",
      "Epoch 26/250\n",
      "22/22 [==============================] - 0s 3ms/step - loss: 249321.6250\n",
      "Epoch 27/250\n",
      "22/22 [==============================] - 0s 2ms/step - loss: 248422.2188\n",
      "Epoch 28/250\n",
      "22/22 [==============================] - 0s 3ms/step - loss: 247438.5781\n",
      "Epoch 29/250\n",
      "22/22 [==============================] - 0s 4ms/step - loss: 246380.3438\n",
      "Epoch 30/250\n",
      "22/22 [==============================] - 0s 4ms/step - loss: 245229.0312\n",
      "Epoch 31/250\n",
      "22/22 [==============================] - 0s 4ms/step - loss: 243981.0469\n",
      "Epoch 32/250\n",
      "22/22 [==============================] - 0s 2ms/step - loss: 242636.5469\n",
      "Epoch 33/250\n",
      "22/22 [==============================] - 0s 2ms/step - loss: 241197.1875\n",
      "Epoch 34/250\n",
      "22/22 [==============================] - 0s 2ms/step - loss: 239643.4688\n",
      "Epoch 35/250\n",
      "22/22 [==============================] - 0s 3ms/step - loss: 237980.7969\n",
      "Epoch 36/250\n",
      "22/22 [==============================] - 0s 4ms/step - loss: 236204.0156\n",
      "Epoch 37/250\n",
      "22/22 [==============================] - 0s 3ms/step - loss: 234297.1875\n",
      "Epoch 38/250\n",
      "22/22 [==============================] - 0s 2ms/step - loss: 232283.4062\n",
      "Epoch 39/250\n",
      "22/22 [==============================] - 0s 2ms/step - loss: 230135.2188\n",
      "Epoch 40/250\n",
      "22/22 [==============================] - 0s 2ms/step - loss: 227856.0938\n",
      "Epoch 41/250\n",
      "22/22 [==============================] - 0s 2ms/step - loss: 225436.9531\n",
      "Epoch 42/250\n",
      "22/22 [==============================] - 0s 2ms/step - loss: 222874.8594\n",
      "Epoch 43/250\n",
      "22/22 [==============================] - 0s 6ms/step - loss: 220174.3125\n",
      "Epoch 44/250\n",
      "22/22 [==============================] - 0s 6ms/step - loss: 217340.1406\n",
      "Epoch 45/250\n",
      "22/22 [==============================] - 0s 4ms/step - loss: 214341.9219\n",
      "Epoch 46/250\n",
      "22/22 [==============================] - 0s 2ms/step - loss: 211188.8906\n",
      "Epoch 47/250\n",
      "22/22 [==============================] - 0s 2ms/step - loss: 207881.2969\n",
      "Epoch 48/250\n",
      "22/22 [==============================] - 0s 4ms/step - loss: 204429.4219\n",
      "Epoch 49/250\n",
      "22/22 [==============================] - 0s 4ms/step - loss: 200787.1250\n",
      "Epoch 50/250\n",
      "22/22 [==============================] - 0s 3ms/step - loss: 196988.8750\n",
      "Epoch 51/250\n",
      "22/22 [==============================] - 0s 6ms/step - loss: 193036.7031\n",
      "Epoch 52/250\n",
      "22/22 [==============================] - 0s 4ms/step - loss: 188934.7188\n",
      "Epoch 53/250\n",
      "22/22 [==============================] - 0s 4ms/step - loss: 184670.3594\n",
      "Epoch 54/250\n",
      "22/22 [==============================] - 0s 3ms/step - loss: 180225.4062\n",
      "Epoch 55/250\n",
      "22/22 [==============================] - 0s 3ms/step - loss: 175624.2344\n",
      "Epoch 56/250\n",
      "22/22 [==============================] - 0s 2ms/step - loss: 170882.0469\n",
      "Epoch 57/250\n",
      "22/22 [==============================] - 0s 1ms/step - loss: 165965.7031\n",
      "Epoch 58/250\n",
      "22/22 [==============================] - 0s 2ms/step - loss: 160880.8906\n",
      "Epoch 59/250\n",
      "22/22 [==============================] - 0s 2ms/step - loss: 155629.6406\n",
      "Epoch 60/250\n",
      "22/22 [==============================] - 0s 2ms/step - loss: 150277.6719\n",
      "Epoch 61/250\n",
      "22/22 [==============================] - 0s 2ms/step - loss: 144793.0469\n",
      "Epoch 62/250\n",
      "22/22 [==============================] - 0s 2ms/step - loss: 139132.4375\n",
      "Epoch 63/250\n",
      "22/22 [==============================] - 0s 2ms/step - loss: 133363.3125\n",
      "Epoch 64/250\n",
      "22/22 [==============================] - 0s 5ms/step - loss: 127484.4219\n",
      "Epoch 65/250\n",
      "22/22 [==============================] - 0s 4ms/step - loss: 121527.3594\n",
      "Epoch 66/250\n",
      "22/22 [==============================] - 0s 2ms/step - loss: 115446.0781\n",
      "Epoch 67/250\n",
      "22/22 [==============================] - 0s 2ms/step - loss: 109299.4297\n",
      "Epoch 68/250\n",
      "22/22 [==============================] - 0s 3ms/step - loss: 103090.0078\n",
      "Epoch 69/250\n",
      "22/22 [==============================] - 0s 2ms/step - loss: 96794.6094\n",
      "Epoch 70/250\n",
      "22/22 [==============================] - 0s 2ms/step - loss: 90528.3125\n",
      "Epoch 71/250\n",
      "22/22 [==============================] - 0s 3ms/step - loss: 84234.5859\n",
      "Epoch 72/250\n",
      "22/22 [==============================] - 0s 3ms/step - loss: 77940.3359\n",
      "Epoch 73/250\n",
      "22/22 [==============================] - 0s 4ms/step - loss: 71681.1641\n",
      "Epoch 74/250\n",
      "22/22 [==============================] - 0s 5ms/step - loss: 65474.7891\n",
      "Epoch 75/250\n",
      "22/22 [==============================] - 0s 1ms/step - loss: 59340.8906\n",
      "Epoch 76/250\n",
      "22/22 [==============================] - 0s 1ms/step - loss: 53333.9844\n",
      "Epoch 77/250\n",
      "22/22 [==============================] - 0s 2ms/step - loss: 47484.0977\n",
      "Epoch 78/250\n",
      "22/22 [==============================] - 0s 2ms/step - loss: 41776.2578\n",
      "Epoch 79/250\n",
      "22/22 [==============================] - 0s 1ms/step - loss: 36282.5664\n",
      "Epoch 80/250\n",
      "22/22 [==============================] - 0s 2ms/step - loss: 31052.8145\n",
      "Epoch 81/250\n",
      "22/22 [==============================] - 0s 2ms/step - loss: 26136.3203\n",
      "Epoch 82/250\n",
      "22/22 [==============================] - 0s 3ms/step - loss: 21557.8027\n",
      "Epoch 83/250\n",
      "22/22 [==============================] - 0s 2ms/step - loss: 17339.5098\n",
      "Epoch 84/250\n",
      "22/22 [==============================] - 0s 2ms/step - loss: 13501.7324\n",
      "Epoch 85/250\n",
      "22/22 [==============================] - 0s 2ms/step - loss: 10098.4805\n",
      "Epoch 86/250\n",
      "22/22 [==============================] - 0s 2ms/step - loss: 7251.4365\n",
      "Epoch 87/250\n",
      "22/22 [==============================] - 0s 2ms/step - loss: 4919.3584\n",
      "Epoch 88/250\n",
      "22/22 [==============================] - 0s 2ms/step - loss: 3219.0410\n",
      "Epoch 89/250\n",
      "22/22 [==============================] - 0s 2ms/step - loss: 2101.6108\n",
      "Epoch 90/250\n",
      "22/22 [==============================] - 0s 3ms/step - loss: 1535.5557\n",
      "Epoch 91/250\n",
      "22/22 [==============================] - 0s 2ms/step - loss: 1361.3076\n",
      "Epoch 92/250\n",
      "22/22 [==============================] - 0s 1ms/step - loss: 1324.6222\n",
      "Epoch 93/250\n",
      "22/22 [==============================] - 0s 2ms/step - loss: 1297.9988\n",
      "Epoch 94/250\n",
      "22/22 [==============================] - 0s 3ms/step - loss: 1271.4954\n",
      "Epoch 95/250\n",
      "22/22 [==============================] - 0s 4ms/step - loss: 1245.4031\n",
      "Epoch 96/250\n"
     ]
    },
    {
     "name": "stdout",
     "output_type": "stream",
     "text": [
      "22/22 [==============================] - 0s 3ms/step - loss: 1216.7848\n",
      "Epoch 97/250\n",
      "22/22 [==============================] - 0s 2ms/step - loss: 1186.9030\n",
      "Epoch 98/250\n",
      "22/22 [==============================] - 0s 2ms/step - loss: 1160.4812\n",
      "Epoch 99/250\n",
      "22/22 [==============================] - 0s 1ms/step - loss: 1133.2007\n",
      "Epoch 100/250\n",
      "22/22 [==============================] - 0s 1ms/step - loss: 1105.3234\n",
      "Epoch 101/250\n",
      "22/22 [==============================] - 0s 2ms/step - loss: 1080.2565\n",
      "Epoch 102/250\n",
      "22/22 [==============================] - 0s 2ms/step - loss: 1056.4141\n",
      "Epoch 103/250\n",
      "22/22 [==============================] - 0s 2ms/step - loss: 1033.2216\n",
      "Epoch 104/250\n",
      "22/22 [==============================] - 0s 2ms/step - loss: 1009.7290\n",
      "Epoch 105/250\n",
      "22/22 [==============================] - 0s 2ms/step - loss: 988.3596\n",
      "Epoch 106/250\n",
      "22/22 [==============================] - 0s 2ms/step - loss: 965.2557\n",
      "Epoch 107/250\n",
      "22/22 [==============================] - 0s 2ms/step - loss: 944.2167\n",
      "Epoch 108/250\n",
      "22/22 [==============================] - 0s 1ms/step - loss: 921.1593\n",
      "Epoch 109/250\n",
      "22/22 [==============================] - 0s 2ms/step - loss: 895.9653\n",
      "Epoch 110/250\n",
      "22/22 [==============================] - 0s 2ms/step - loss: 869.6931\n",
      "Epoch 111/250\n",
      "22/22 [==============================] - 0s 2ms/step - loss: 846.1979\n",
      "Epoch 112/250\n",
      "22/22 [==============================] - 0s 2ms/step - loss: 824.3519\n",
      "Epoch 113/250\n",
      "22/22 [==============================] - 0s 2ms/step - loss: 800.8269\n",
      "Epoch 114/250\n",
      "22/22 [==============================] - 0s 3ms/step - loss: 780.5248\n",
      "Epoch 115/250\n",
      "22/22 [==============================] - 0s 2ms/step - loss: 760.5468\n",
      "Epoch 116/250\n",
      "22/22 [==============================] - 0s 2ms/step - loss: 738.5662\n",
      "Epoch 117/250\n",
      "22/22 [==============================] - 0s 2ms/step - loss: 721.2245\n",
      "Epoch 118/250\n",
      "22/22 [==============================] - 0s 3ms/step - loss: 700.6234\n",
      "Epoch 119/250\n",
      "22/22 [==============================] - 0s 3ms/step - loss: 681.2645\n",
      "Epoch 120/250\n",
      "22/22 [==============================] - 0s 4ms/step - loss: 661.1861\n",
      "Epoch 121/250\n",
      "22/22 [==============================] - 0s 2ms/step - loss: 641.4856\n",
      "Epoch 122/250\n",
      "22/22 [==============================] - 0s 2ms/step - loss: 620.1601\n",
      "Epoch 123/250\n",
      "22/22 [==============================] - 0s 2ms/step - loss: 602.1392\n",
      "Epoch 124/250\n",
      "22/22 [==============================] - 0s 2ms/step - loss: 583.6957\n",
      "Epoch 125/250\n",
      "22/22 [==============================] - 0s 2ms/step - loss: 563.8790\n",
      "Epoch 126/250\n",
      "22/22 [==============================] - 0s 2ms/step - loss: 544.0759\n",
      "Epoch 127/250\n",
      "22/22 [==============================] - 0s 3ms/step - loss: 529.8019\n",
      "Epoch 128/250\n",
      "22/22 [==============================] - 0s 3ms/step - loss: 509.2609\n",
      "Epoch 129/250\n",
      "22/22 [==============================] - 0s 2ms/step - loss: 493.0398\n",
      "Epoch 130/250\n",
      "22/22 [==============================] - 0s 2ms/step - loss: 477.0071\n",
      "Epoch 131/250\n",
      "22/22 [==============================] - 0s 2ms/step - loss: 459.0896\n",
      "Epoch 132/250\n",
      "22/22 [==============================] - 0s 3ms/step - loss: 440.6470\n",
      "Epoch 133/250\n",
      "22/22 [==============================] - 0s 2ms/step - loss: 424.1252\n",
      "Epoch 134/250\n",
      "22/22 [==============================] - 0s 2ms/step - loss: 406.1117\n",
      "Epoch 135/250\n",
      "22/22 [==============================] - 0s 2ms/step - loss: 390.0273\n",
      "Epoch 136/250\n",
      "22/22 [==============================] - 0s 2ms/step - loss: 374.0031\n",
      "Epoch 137/250\n",
      "22/22 [==============================] - 0s 2ms/step - loss: 357.3738\n",
      "Epoch 138/250\n",
      "22/22 [==============================] - 0s 2ms/step - loss: 343.7570\n",
      "Epoch 139/250\n",
      "22/22 [==============================] - 0s 2ms/step - loss: 327.6068\n",
      "Epoch 140/250\n",
      "22/22 [==============================] - 0s 2ms/step - loss: 313.2257\n",
      "Epoch 141/250\n",
      "22/22 [==============================] - 0s 3ms/step - loss: 296.5549\n",
      "Epoch 142/250\n",
      "22/22 [==============================] - 0s 2ms/step - loss: 281.2990\n",
      "Epoch 143/250\n",
      "22/22 [==============================] - 0s 3ms/step - loss: 270.6246\n",
      "Epoch 144/250\n",
      "22/22 [==============================] - 0s 1ms/step - loss: 255.3807\n",
      "Epoch 145/250\n",
      "22/22 [==============================] - 0s 2ms/step - loss: 241.8903\n",
      "Epoch 146/250\n",
      "22/22 [==============================] - 0s 2ms/step - loss: 227.6777\n",
      "Epoch 147/250\n",
      "22/22 [==============================] - 0s 2ms/step - loss: 215.1182\n",
      "Epoch 148/250\n",
      "22/22 [==============================] - 0s 2ms/step - loss: 202.4143\n",
      "Epoch 149/250\n",
      "22/22 [==============================] - 0s 2ms/step - loss: 193.3811\n",
      "Epoch 150/250\n",
      "22/22 [==============================] - 0s 3ms/step - loss: 183.6768\n",
      "Epoch 151/250\n",
      "22/22 [==============================] - 0s 2ms/step - loss: 172.9846\n",
      "Epoch 152/250\n",
      "22/22 [==============================] - 0s 4ms/step - loss: 163.1689\n",
      "Epoch 153/250\n",
      "22/22 [==============================] - 0s 4ms/step - loss: 152.5984\n",
      "Epoch 154/250\n",
      "22/22 [==============================] - 0s 2ms/step - loss: 143.8290\n",
      "Epoch 155/250\n",
      "22/22 [==============================] - 0s 2ms/step - loss: 133.7273\n",
      "Epoch 156/250\n",
      "22/22 [==============================] - 0s 2ms/step - loss: 126.1041\n",
      "Epoch 157/250\n",
      "22/22 [==============================] - 0s 2ms/step - loss: 118.0287\n",
      "Epoch 158/250\n",
      "22/22 [==============================] - 0s 2ms/step - loss: 110.5931\n",
      "Epoch 159/250\n",
      "22/22 [==============================] - 0s 2ms/step - loss: 104.1939\n",
      "Epoch 160/250\n",
      "22/22 [==============================] - 0s 2ms/step - loss: 97.8648\n",
      "Epoch 161/250\n",
      "22/22 [==============================] - 0s 3ms/step - loss: 91.2137\n",
      "Epoch 162/250\n",
      "22/22 [==============================] - 0s 2ms/step - loss: 85.7853\n",
      "Epoch 163/250\n",
      "22/22 [==============================] - 0s 2ms/step - loss: 80.3908\n",
      "Epoch 164/250\n",
      "22/22 [==============================] - 0s 2ms/step - loss: 74.2318\n",
      "Epoch 165/250\n",
      "22/22 [==============================] - 0s 2ms/step - loss: 69.8476\n",
      "Epoch 166/250\n",
      "22/22 [==============================] - 0s 2ms/step - loss: 65.1618\n",
      "Epoch 167/250\n",
      "22/22 [==============================] - 0s 2ms/step - loss: 60.9836\n",
      "Epoch 168/250\n",
      "22/22 [==============================] - 0s 2ms/step - loss: 57.2031\n",
      "Epoch 169/250\n",
      "22/22 [==============================] - 0s 2ms/step - loss: 53.7350\n",
      "Epoch 170/250\n",
      "22/22 [==============================] - 0s 2ms/step - loss: 49.0466\n",
      "Epoch 171/250\n",
      "22/22 [==============================] - 0s 2ms/step - loss: 46.9378\n",
      "Epoch 172/250\n",
      "22/22 [==============================] - 0s 5ms/step - loss: 43.8435\n",
      "Epoch 173/250\n",
      "22/22 [==============================] - 0s 3ms/step - loss: 41.1101\n",
      "Epoch 174/250\n",
      "22/22 [==============================] - 0s 3ms/step - loss: 38.7039\n",
      "Epoch 175/250\n",
      "22/22 [==============================] - 0s 3ms/step - loss: 36.4343\n",
      "Epoch 176/250\n",
      "22/22 [==============================] - 0s 2ms/step - loss: 34.6179\n",
      "Epoch 177/250\n",
      "22/22 [==============================] - 0s 2ms/step - loss: 33.2581\n",
      "Epoch 178/250\n",
      "22/22 [==============================] - 0s 1ms/step - loss: 31.8664\n",
      "Epoch 179/250\n",
      "22/22 [==============================] - 0s 3ms/step - loss: 30.4310\n",
      "Epoch 180/250\n",
      "22/22 [==============================] - 0s 1ms/step - loss: 29.7693\n",
      "Epoch 181/250\n",
      "22/22 [==============================] - 0s 1ms/step - loss: 28.9924\n",
      "Epoch 182/250\n",
      "22/22 [==============================] - 0s 1ms/step - loss: 28.0820\n",
      "Epoch 183/250\n",
      "22/22 [==============================] - 0s 2ms/step - loss: 28.1028\n",
      "Epoch 184/250\n",
      "22/22 [==============================] - 0s 3ms/step - loss: 27.0407\n",
      "Epoch 185/250\n",
      "22/22 [==============================] - 0s 2ms/step - loss: 26.7583\n",
      "Epoch 186/250\n",
      "22/22 [==============================] - 0s 2ms/step - loss: 26.6947\n",
      "Epoch 187/250\n",
      "22/22 [==============================] - 0s 4ms/step - loss: 26.2854\n",
      "Epoch 188/250\n",
      "22/22 [==============================] - 0s 2ms/step - loss: 25.7250\n",
      "Epoch 189/250\n",
      "22/22 [==============================] - 0s 3ms/step - loss: 25.9865\n",
      "Epoch 190/250\n",
      "22/22 [==============================] - 0s 2ms/step - loss: 25.1687\n",
      "Epoch 191/250\n",
      "22/22 [==============================] - 0s 2ms/step - loss: 25.5004\n",
      "Epoch 192/250\n",
      "22/22 [==============================] - 0s 2ms/step - loss: 25.1573\n",
      "Epoch 193/250\n",
      "22/22 [==============================] - 0s 2ms/step - loss: 24.5667\n",
      "Epoch 194/250\n"
     ]
    },
    {
     "name": "stdout",
     "output_type": "stream",
     "text": [
      "22/22 [==============================] - 0s 2ms/step - loss: 24.7345\n",
      "Epoch 195/250\n",
      "22/22 [==============================] - 0s 2ms/step - loss: 24.9515\n",
      "Epoch 196/250\n",
      "22/22 [==============================] - 0s 3ms/step - loss: 24.7235\n",
      "Epoch 197/250\n",
      "22/22 [==============================] - 0s 2ms/step - loss: 24.7777\n",
      "Epoch 198/250\n",
      "22/22 [==============================] - 0s 2ms/step - loss: 24.4599\n",
      "Epoch 199/250\n",
      "22/22 [==============================] - 0s 3ms/step - loss: 24.5648\n",
      "Epoch 200/250\n",
      "22/22 [==============================] - 0s 2ms/step - loss: 24.6945\n",
      "Epoch 201/250\n",
      "22/22 [==============================] - 0s 2ms/step - loss: 24.2449\n",
      "Epoch 202/250\n",
      "22/22 [==============================] - 0s 3ms/step - loss: 24.5755\n",
      "Epoch 203/250\n",
      "22/22 [==============================] - 0s 2ms/step - loss: 24.1172\n",
      "Epoch 204/250\n",
      "22/22 [==============================] - 0s 2ms/step - loss: 24.5213\n",
      "Epoch 205/250\n",
      "22/22 [==============================] - 0s 3ms/step - loss: 24.7265\n",
      "Epoch 206/250\n",
      "22/22 [==============================] - 0s 2ms/step - loss: 24.3394\n",
      "Epoch 207/250\n",
      "22/22 [==============================] - 0s 3ms/step - loss: 23.9954\n",
      "Epoch 208/250\n",
      "22/22 [==============================] - 0s 3ms/step - loss: 24.5444\n",
      "Epoch 209/250\n",
      "22/22 [==============================] - 0s 2ms/step - loss: 24.4235\n",
      "Epoch 210/250\n",
      "22/22 [==============================] - 0s 2ms/step - loss: 24.0011\n",
      "Epoch 211/250\n",
      "22/22 [==============================] - 0s 2ms/step - loss: 24.5070\n",
      "Epoch 212/250\n",
      "22/22 [==============================] - 0s 1ms/step - loss: 24.4914\n",
      "Epoch 213/250\n",
      "22/22 [==============================] - 0s 2ms/step - loss: 24.5719\n",
      "Epoch 214/250\n",
      "22/22 [==============================] - 0s 1ms/step - loss: 23.8519\n",
      "Epoch 215/250\n",
      "22/22 [==============================] - 0s 2ms/step - loss: 24.3969\n",
      "Epoch 216/250\n",
      "22/22 [==============================] - 0s 1ms/step - loss: 24.2176\n",
      "Epoch 217/250\n",
      "22/22 [==============================] - 0s 3ms/step - loss: 24.1677\n",
      "Epoch 218/250\n",
      "22/22 [==============================] - 0s 2ms/step - loss: 24.1784\n",
      "Epoch 219/250\n",
      "22/22 [==============================] - 0s 4ms/step - loss: 24.4754\n",
      "Epoch 220/250\n",
      "22/22 [==============================] - 0s 2ms/step - loss: 24.4039\n",
      "Epoch 221/250\n",
      "22/22 [==============================] - 0s 2ms/step - loss: 24.5299\n",
      "Epoch 222/250\n",
      "22/22 [==============================] - 0s 2ms/step - loss: 24.3317\n",
      "Epoch 223/250\n",
      "22/22 [==============================] - 0s 2ms/step - loss: 24.2724\n",
      "Epoch 224/250\n",
      "22/22 [==============================] - 0s 1ms/step - loss: 24.3449\n",
      "Epoch 225/250\n",
      "22/22 [==============================] - 0s 2ms/step - loss: 24.4278\n",
      "Epoch 226/250\n",
      "22/22 [==============================] - 0s 2ms/step - loss: 23.9227\n",
      "Epoch 227/250\n",
      "22/22 [==============================] - 0s 2ms/step - loss: 24.5777\n",
      "Epoch 228/250\n",
      "22/22 [==============================] - 0s 2ms/step - loss: 24.2287\n",
      "Epoch 229/250\n",
      "22/22 [==============================] - 0s 3ms/step - loss: 24.4487\n",
      "Epoch 230/250\n",
      "22/22 [==============================] - 0s 3ms/step - loss: 24.5120\n",
      "Epoch 231/250\n",
      "22/22 [==============================] - 0s 2ms/step - loss: 23.7056\n",
      "Epoch 232/250\n",
      "22/22 [==============================] - 0s 2ms/step - loss: 24.5297\n",
      "Epoch 233/250\n",
      "22/22 [==============================] - 0s 2ms/step - loss: 24.3036\n",
      "Epoch 234/250\n",
      "22/22 [==============================] - 0s 2ms/step - loss: 24.0890\n",
      "Epoch 235/250\n",
      "22/22 [==============================] - 0s 2ms/step - loss: 24.4896\n",
      "Epoch 236/250\n",
      "22/22 [==============================] - 0s 2ms/step - loss: 24.3164\n",
      "Epoch 237/250\n",
      "22/22 [==============================] - 0s 2ms/step - loss: 24.5812\n",
      "Epoch 238/250\n",
      "22/22 [==============================] - 0s 2ms/step - loss: 24.2347\n",
      "Epoch 239/250\n",
      "22/22 [==============================] - 0s 2ms/step - loss: 24.4406\n",
      "Epoch 240/250\n",
      "22/22 [==============================] - 0s 2ms/step - loss: 24.1273\n",
      "Epoch 241/250\n",
      "22/22 [==============================] - 0s 2ms/step - loss: 24.7879\n",
      "Epoch 242/250\n",
      "22/22 [==============================] - 0s 2ms/step - loss: 24.3514\n",
      "Epoch 243/250\n",
      "22/22 [==============================] - 0s 2ms/step - loss: 24.2581\n",
      "Epoch 244/250\n",
      "22/22 [==============================] - 0s 2ms/step - loss: 24.7204\n",
      "Epoch 245/250\n",
      "22/22 [==============================] - 0s 2ms/step - loss: 24.3015\n",
      "Epoch 246/250\n",
      "22/22 [==============================] - 0s 2ms/step - loss: 24.2569\n",
      "Epoch 247/250\n",
      "22/22 [==============================] - 0s 2ms/step - loss: 24.2856\n",
      "Epoch 248/250\n",
      "22/22 [==============================] - 0s 2ms/step - loss: 24.1535\n",
      "Epoch 249/250\n",
      "22/22 [==============================] - 0s 2ms/step - loss: 23.9745\n",
      "Epoch 250/250\n",
      "22/22 [==============================] - 0s 3ms/step - loss: 24.3859\n"
     ]
    },
    {
     "data": {
      "text/plain": [
       "<keras.callbacks.History at 0x241b1db2940>"
      ]
     },
     "execution_count": 37,
     "metadata": {},
     "output_type": "execute_result"
    }
   ],
   "source": [
    "model.fit(x = X_train, y = y_train, batch_size = 32, epochs = 250)"
   ]
  },
  {
   "cell_type": "code",
   "execution_count": 40,
   "metadata": {
    "ExecuteTime": {
     "end_time": "2022-09-29T19:30:25.475965Z",
     "start_time": "2022-09-29T19:30:25.439495Z"
    }
   },
   "outputs": [
    {
     "data": {
      "text/plain": [
       "[<tf.Variable 'dense_4/kernel:0' shape=(2, 4) dtype=float32, numpy=\n",
       " array([[ 2.434348  ,  0.8611571 , -0.81369036,  1.8604083 ],\n",
       "        [ 3.6329134 ,  3.7826147 ,  0.3137541 ,  3.343686  ]],\n",
       "       dtype=float32)>,\n",
       " <tf.Variable 'dense_4/bias:0' shape=(4,) dtype=float32, numpy=array([ 0.8017377 ,  0.6122382 , -0.16214584,  0.75662875], dtype=float32)>,\n",
       " <tf.Variable 'dense_5/kernel:0' shape=(4, 4) dtype=float32, numpy=\n",
       " array([[-0.18493545,  2.787952  ,  2.5249345 , -0.7397867 ],\n",
       "        [-0.6055788 ,  1.9276955 ,  2.449967  , -0.3252117 ],\n",
       "        [ 0.22182328,  0.13456793, -0.6159922 , -0.60780704],\n",
       "        [-0.16533756,  2.1250832 ,  2.3266022 ,  0.46136767]],\n",
       "       dtype=float32)>,\n",
       " <tf.Variable 'dense_5/bias:0' shape=(4,) dtype=float32, numpy=array([0.        , 0.85727507, 0.7153846 , 0.        ], dtype=float32)>,\n",
       " <tf.Variable 'dense_6/kernel:0' shape=(4, 4) dtype=float32, numpy=\n",
       " array([[-0.14596242,  0.53093046,  0.74177295,  0.4172278 ],\n",
       "        [ 1.9929488 , -0.5535372 ,  0.04672657,  2.2595985 ],\n",
       "        [ 2.45971   , -0.4835656 , -0.7058795 ,  2.248208  ],\n",
       "        [-0.43628886,  0.40331084, -0.2268399 , -0.85438114]],\n",
       "       dtype=float32)>,\n",
       " <tf.Variable 'dense_6/bias:0' shape=(4,) dtype=float32, numpy=array([ 0.44838303,  0.        , -0.01800221,  0.8472636 ], dtype=float32)>,\n",
       " <tf.Variable 'dense_7/kernel:0' shape=(4, 1) dtype=float32, numpy=\n",
       " array([[ 1.8792003 ],\n",
       "        [-0.80113024],\n",
       "        [-0.17468801],\n",
       "        [ 2.443935  ]], dtype=float32)>,\n",
       " <tf.Variable 'dense_7/bias:0' shape=(1,) dtype=float32, numpy=array([0.83045787], dtype=float32)>]"
      ]
     },
     "execution_count": 40,
     "metadata": {},
     "output_type": "execute_result"
    }
   ],
   "source": [
    "model.weights"
   ]
  },
  {
   "cell_type": "code",
   "execution_count": 41,
   "metadata": {
    "ExecuteTime": {
     "end_time": "2022-09-29T19:30:29.112947Z",
     "start_time": "2022-09-29T19:30:29.097992Z"
    },
    "scrolled": true
   },
   "outputs": [
    {
     "data": {
      "text/plain": [
       "{'loss': [256732.609375,\n",
       "  256672.1875,\n",
       "  256620.9375,\n",
       "  256568.34375,\n",
       "  256509.1875,\n",
       "  256437.78125,\n",
       "  256354.765625,\n",
       "  256260.734375,\n",
       "  256154.828125,\n",
       "  256034.1875,\n",
       "  255897.96875,\n",
       "  255737.78125,\n",
       "  255550.65625,\n",
       "  255335.59375,\n",
       "  255088.6875,\n",
       "  254807.21875,\n",
       "  254488.984375,\n",
       "  254127.015625,\n",
       "  253721.296875,\n",
       "  253265.984375,\n",
       "  252760.734375,\n",
       "  252198.78125,\n",
       "  251580.234375,\n",
       "  250899.203125,\n",
       "  250146.328125,\n",
       "  249321.625,\n",
       "  248422.21875,\n",
       "  247438.578125,\n",
       "  246380.34375,\n",
       "  245229.03125,\n",
       "  243981.046875,\n",
       "  242636.546875,\n",
       "  241197.1875,\n",
       "  239643.46875,\n",
       "  237980.796875,\n",
       "  236204.015625,\n",
       "  234297.1875,\n",
       "  232283.40625,\n",
       "  230135.21875,\n",
       "  227856.09375,\n",
       "  225436.953125,\n",
       "  222874.859375,\n",
       "  220174.3125,\n",
       "  217340.140625,\n",
       "  214341.921875,\n",
       "  211188.890625,\n",
       "  207881.296875,\n",
       "  204429.421875,\n",
       "  200787.125,\n",
       "  196988.875,\n",
       "  193036.703125,\n",
       "  188934.71875,\n",
       "  184670.359375,\n",
       "  180225.40625,\n",
       "  175624.234375,\n",
       "  170882.046875,\n",
       "  165965.703125,\n",
       "  160880.890625,\n",
       "  155629.640625,\n",
       "  150277.671875,\n",
       "  144793.046875,\n",
       "  139132.4375,\n",
       "  133363.3125,\n",
       "  127484.421875,\n",
       "  121527.359375,\n",
       "  115446.078125,\n",
       "  109299.4296875,\n",
       "  103090.0078125,\n",
       "  96794.609375,\n",
       "  90528.3125,\n",
       "  84234.5859375,\n",
       "  77940.3359375,\n",
       "  71681.1640625,\n",
       "  65474.7890625,\n",
       "  59340.890625,\n",
       "  53333.984375,\n",
       "  47484.09765625,\n",
       "  41776.2578125,\n",
       "  36282.56640625,\n",
       "  31052.814453125,\n",
       "  26136.3203125,\n",
       "  21557.802734375,\n",
       "  17339.509765625,\n",
       "  13501.732421875,\n",
       "  10098.48046875,\n",
       "  7251.4365234375,\n",
       "  4919.3583984375,\n",
       "  3219.041015625,\n",
       "  2101.61083984375,\n",
       "  1535.5556640625,\n",
       "  1361.3076171875,\n",
       "  1324.6221923828125,\n",
       "  1297.998779296875,\n",
       "  1271.495361328125,\n",
       "  1245.403076171875,\n",
       "  1216.7847900390625,\n",
       "  1186.9029541015625,\n",
       "  1160.481201171875,\n",
       "  1133.20068359375,\n",
       "  1105.3233642578125,\n",
       "  1080.2564697265625,\n",
       "  1056.4140625,\n",
       "  1033.2215576171875,\n",
       "  1009.72900390625,\n",
       "  988.3595581054688,\n",
       "  965.2557373046875,\n",
       "  944.2166748046875,\n",
       "  921.1593017578125,\n",
       "  895.9652709960938,\n",
       "  869.693115234375,\n",
       "  846.1978759765625,\n",
       "  824.3518676757812,\n",
       "  800.826904296875,\n",
       "  780.5248413085938,\n",
       "  760.5468139648438,\n",
       "  738.5662231445312,\n",
       "  721.2244873046875,\n",
       "  700.6234130859375,\n",
       "  681.2645263671875,\n",
       "  661.1860961914062,\n",
       "  641.485595703125,\n",
       "  620.1600952148438,\n",
       "  602.1392211914062,\n",
       "  583.6957397460938,\n",
       "  563.8789672851562,\n",
       "  544.0758666992188,\n",
       "  529.8019409179688,\n",
       "  509.2608947753906,\n",
       "  493.0398254394531,\n",
       "  477.0071105957031,\n",
       "  459.0896301269531,\n",
       "  440.64697265625,\n",
       "  424.1252136230469,\n",
       "  406.1116943359375,\n",
       "  390.0273132324219,\n",
       "  374.00311279296875,\n",
       "  357.3738098144531,\n",
       "  343.7569580078125,\n",
       "  327.6068420410156,\n",
       "  313.2257385253906,\n",
       "  296.554931640625,\n",
       "  281.2989501953125,\n",
       "  270.6246032714844,\n",
       "  255.38067626953125,\n",
       "  241.89027404785156,\n",
       "  227.67774963378906,\n",
       "  215.1181640625,\n",
       "  202.41429138183594,\n",
       "  193.38113403320312,\n",
       "  183.6768341064453,\n",
       "  172.984619140625,\n",
       "  163.1688690185547,\n",
       "  152.598388671875,\n",
       "  143.8290252685547,\n",
       "  133.727294921875,\n",
       "  126.1041488647461,\n",
       "  118.02869415283203,\n",
       "  110.59309387207031,\n",
       "  104.19390869140625,\n",
       "  97.86478424072266,\n",
       "  91.21372985839844,\n",
       "  85.78534698486328,\n",
       "  80.39080810546875,\n",
       "  74.23182678222656,\n",
       "  69.84756469726562,\n",
       "  65.16184997558594,\n",
       "  60.98358154296875,\n",
       "  57.20305252075195,\n",
       "  53.73502731323242,\n",
       "  49.04661178588867,\n",
       "  46.93777847290039,\n",
       "  43.843482971191406,\n",
       "  41.11005783081055,\n",
       "  38.70392990112305,\n",
       "  36.43431854248047,\n",
       "  34.61788558959961,\n",
       "  33.258060455322266,\n",
       "  31.86638069152832,\n",
       "  30.431013107299805,\n",
       "  29.76930046081543,\n",
       "  28.99235725402832,\n",
       "  28.08197784423828,\n",
       "  28.10282325744629,\n",
       "  27.040678024291992,\n",
       "  26.758283615112305,\n",
       "  26.694740295410156,\n",
       "  26.285362243652344,\n",
       "  25.725038528442383,\n",
       "  25.98648452758789,\n",
       "  25.16868782043457,\n",
       "  25.500356674194336,\n",
       "  25.157262802124023,\n",
       "  24.566741943359375,\n",
       "  24.73453712463379,\n",
       "  24.951492309570312,\n",
       "  24.723506927490234,\n",
       "  24.77773094177246,\n",
       "  24.459888458251953,\n",
       "  24.564802169799805,\n",
       "  24.694467544555664,\n",
       "  24.24485969543457,\n",
       "  24.575454711914062,\n",
       "  24.11724090576172,\n",
       "  24.52126693725586,\n",
       "  24.726476669311523,\n",
       "  24.33941078186035,\n",
       "  23.99544906616211,\n",
       "  24.54442596435547,\n",
       "  24.42354965209961,\n",
       "  24.001056671142578,\n",
       "  24.5069637298584,\n",
       "  24.49142837524414,\n",
       "  24.571889877319336,\n",
       "  23.851869583129883,\n",
       "  24.39690589904785,\n",
       "  24.217641830444336,\n",
       "  24.16771125793457,\n",
       "  24.178428649902344,\n",
       "  24.475418090820312,\n",
       "  24.40386390686035,\n",
       "  24.5299129486084,\n",
       "  24.331701278686523,\n",
       "  24.272432327270508,\n",
       "  24.34493064880371,\n",
       "  24.427804946899414,\n",
       "  23.922744750976562,\n",
       "  24.577733993530273,\n",
       "  24.22865867614746,\n",
       "  24.448747634887695,\n",
       "  24.511985778808594,\n",
       "  23.705591201782227,\n",
       "  24.529720306396484,\n",
       "  24.303619384765625,\n",
       "  24.089006423950195,\n",
       "  24.489648818969727,\n",
       "  24.316444396972656,\n",
       "  24.581188201904297,\n",
       "  24.234663009643555,\n",
       "  24.440628051757812,\n",
       "  24.127328872680664,\n",
       "  24.787893295288086,\n",
       "  24.351383209228516,\n",
       "  24.258085250854492,\n",
       "  24.720420837402344,\n",
       "  24.301523208618164,\n",
       "  24.256925582885742,\n",
       "  24.285621643066406,\n",
       "  24.153499603271484,\n",
       "  23.974477767944336,\n",
       "  24.385923385620117]}"
      ]
     },
     "execution_count": 41,
     "metadata": {},
     "output_type": "execute_result"
    }
   ],
   "source": [
    "model.history.history"
   ]
  },
  {
   "cell_type": "code",
   "execution_count": 42,
   "metadata": {
    "ExecuteTime": {
     "end_time": "2022-09-29T19:30:32.268232Z",
     "start_time": "2022-09-29T19:30:32.242391Z"
    }
   },
   "outputs": [
    {
     "data": {
      "text/html": [
       "<div>\n",
       "<style scoped>\n",
       "    .dataframe tbody tr th:only-of-type {\n",
       "        vertical-align: middle;\n",
       "    }\n",
       "\n",
       "    .dataframe tbody tr th {\n",
       "        vertical-align: top;\n",
       "    }\n",
       "\n",
       "    .dataframe thead th {\n",
       "        text-align: right;\n",
       "    }\n",
       "</style>\n",
       "<table border=\"1\" class=\"dataframe\">\n",
       "  <thead>\n",
       "    <tr style=\"text-align: right;\">\n",
       "      <th></th>\n",
       "      <th>loss</th>\n",
       "    </tr>\n",
       "  </thead>\n",
       "  <tbody>\n",
       "    <tr>\n",
       "      <th>0</th>\n",
       "      <td>256732.609</td>\n",
       "    </tr>\n",
       "    <tr>\n",
       "      <th>1</th>\n",
       "      <td>256672.188</td>\n",
       "    </tr>\n",
       "    <tr>\n",
       "      <th>2</th>\n",
       "      <td>256620.938</td>\n",
       "    </tr>\n",
       "    <tr>\n",
       "      <th>3</th>\n",
       "      <td>256568.344</td>\n",
       "    </tr>\n",
       "    <tr>\n",
       "      <th>4</th>\n",
       "      <td>256509.188</td>\n",
       "    </tr>\n",
       "    <tr>\n",
       "      <th>...</th>\n",
       "      <td>...</td>\n",
       "    </tr>\n",
       "    <tr>\n",
       "      <th>245</th>\n",
       "      <td>24.257</td>\n",
       "    </tr>\n",
       "    <tr>\n",
       "      <th>246</th>\n",
       "      <td>24.286</td>\n",
       "    </tr>\n",
       "    <tr>\n",
       "      <th>247</th>\n",
       "      <td>24.153</td>\n",
       "    </tr>\n",
       "    <tr>\n",
       "      <th>248</th>\n",
       "      <td>23.974</td>\n",
       "    </tr>\n",
       "    <tr>\n",
       "      <th>249</th>\n",
       "      <td>24.386</td>\n",
       "    </tr>\n",
       "  </tbody>\n",
       "</table>\n",
       "<p>250 rows × 1 columns</p>\n",
       "</div>"
      ],
      "text/plain": [
       "          loss\n",
       "0   256732.609\n",
       "1   256672.188\n",
       "2   256620.938\n",
       "3   256568.344\n",
       "4   256509.188\n",
       "..         ...\n",
       "245     24.257\n",
       "246     24.286\n",
       "247     24.153\n",
       "248     23.974\n",
       "249     24.386\n",
       "\n",
       "[250 rows x 1 columns]"
      ]
     },
     "execution_count": 42,
     "metadata": {},
     "output_type": "execute_result"
    }
   ],
   "source": [
    "pd.DataFrame(model.history.history)"
   ]
  },
  {
   "cell_type": "code",
   "execution_count": 46,
   "metadata": {
    "ExecuteTime": {
     "end_time": "2022-09-29T19:32:04.090242Z",
     "start_time": "2022-09-29T19:32:03.825207Z"
    }
   },
   "outputs": [
    {
     "data": {
      "image/png": "[encoded data removed]",
      "text/plain": [
       "<Figure size 1000x600 with 1 Axes>"
      ]
     },
     "metadata": {},
     "output_type": "display_data"
    }
   ],
   "source": [
    "loss_df = pd.DataFrame(model.history.history)\n",
    "loss_df.plot()\n",
    "plt.show()"
   ]
  },
  {
   "cell_type": "code",
   "execution_count": 48,
   "metadata": {
    "ExecuteTime": {
     "end_time": "2022-09-29T19:35:14.614060Z",
     "start_time": "2022-09-29T19:35:14.146068Z"
    }
   },
   "outputs": [
    {
     "data": {
      "image/png": "[encoded data removed]",
      "text/plain": [
       "<Figure size 1000x600 with 1 Axes>"
      ]
     },
     "metadata": {},
     "output_type": "display_data"
    },
    {
     "data": {
      "image/png": "[encoded data removed]",
      "text/plain": [
       "<Figure size 1000x600 with 1 Axes>"
      ]
     },
     "metadata": {},
     "output_type": "display_data"
    }
   ],
   "source": [
    "fig, ax = plt.subplots()\n",
    "\n",
    "ax.plot(loss_df)\n",
    "ax.set_xlabel(\"epoch\")\n",
    "ax.set_ylabel(\"loss\")\n",
    "ax.set_title(\"loss - epoch graph\")\n",
    "ax.set_xlim([0, 250])  # focusing on the given x values\n",
    "ax.set_ylim([0, 3000])  # focusing on the given y values\n",
    "plt.show()"
   ]
  },
  {
   "cell_type": "markdown",
   "metadata": {},
   "source": [
    "## Model Performance"
   ]
  },
  {
   "cell_type": "code",
   "execution_count": 49,
   "metadata": {
    "ExecuteTime": {
     "end_time": "2022-09-29T19:38:54.965805Z",
     "start_time": "2022-09-29T19:38:54.943572Z"
    }
   },
   "outputs": [],
   "source": [
    "from sklearn.metrics import mean_squared_error, mean_absolute_error, r2_score"
   ]
  },
  {
   "cell_type": "code",
   "execution_count": 50,
   "metadata": {
    "ExecuteTime": {
     "end_time": "2022-09-29T19:39:01.240886Z",
     "start_time": "2022-09-29T19:39:00.043348Z"
    }
   },
   "outputs": [
    {
     "data": {
      "text/plain": [
       "25.092832565307617"
      ]
     },
     "execution_count": 50,
     "metadata": {},
     "output_type": "execute_result"
    }
   ],
   "source": [
    "model.evaluate(X_train, y_train, verbose=0)"
   ]
  },
  {
   "cell_type": "code",
   "execution_count": 51,
   "metadata": {
    "ExecuteTime": {
     "end_time": "2022-09-29T19:39:07.751829Z",
     "start_time": "2022-09-29T19:39:07.446735Z"
    }
   },
   "outputs": [
    {
     "data": {
      "text/plain": [
       "25.45988655090332"
      ]
     },
     "execution_count": 51,
     "metadata": {},
     "output_type": "execute_result"
    }
   ],
   "source": [
    "model.evaluate(X_test, y_test, verbose=0)"
   ]
  },
  {
   "cell_type": "code",
   "execution_count": 52,
   "metadata": {
    "ExecuteTime": {
     "end_time": "2022-09-29T19:39:17.139810Z",
     "start_time": "2022-09-29T19:39:16.728774Z"
    }
   },
   "outputs": [
    {
     "name": "stdout",
     "output_type": "stream",
     "text": [
      "10/10 [==============================] - 0s 2ms/step\n"
     ]
    },
    {
     "data": {
      "text/plain": [
       "(300, 1)"
      ]
     },
     "execution_count": 52,
     "metadata": {},
     "output_type": "execute_result"
    }
   ],
   "source": [
    "y_pred = model.predict(X_test)\n",
    "y_pred.shape"
   ]
  },
  {
   "cell_type": "code",
   "execution_count": 53,
   "metadata": {
    "ExecuteTime": {
     "end_time": "2022-09-29T19:39:26.152700Z",
     "start_time": "2022-09-29T19:39:26.133960Z"
    }
   },
   "outputs": [
    {
     "data": {
      "text/plain": [
       "(300,)"
      ]
     },
     "execution_count": 53,
     "metadata": {},
     "output_type": "execute_result"
    }
   ],
   "source": [
    "y_test.shape"
   ]
  },
  {
   "cell_type": "code",
   "execution_count": 54,
   "metadata": {
    "ExecuteTime": {
     "end_time": "2022-09-29T19:39:29.931436Z",
     "start_time": "2022-09-29T19:39:29.855149Z"
    }
   },
   "outputs": [
    {
     "data": {
      "text/plain": [
       "(300,)"
      ]
     },
     "execution_count": 54,
     "metadata": {},
     "output_type": "execute_result"
    }
   ],
   "source": [
    "y_pred.reshape(-1,).shape"
   ]
  },
  {
   "cell_type": "code",
   "execution_count": 55,
   "metadata": {
    "ExecuteTime": {
     "end_time": "2022-09-29T19:40:25.579171Z",
     "start_time": "2022-09-29T19:40:25.536074Z"
    }
   },
   "outputs": [
    {
     "data": {
      "text/html": [
       "<div>\n",
       "<style scoped>\n",
       "    .dataframe tbody tr th:only-of-type {\n",
       "        vertical-align: middle;\n",
       "    }\n",
       "\n",
       "    .dataframe tbody tr th {\n",
       "        vertical-align: top;\n",
       "    }\n",
       "\n",
       "    .dataframe thead th {\n",
       "        text-align: right;\n",
       "    }\n",
       "</style>\n",
       "<table border=\"1\" class=\"dataframe\">\n",
       "  <thead>\n",
       "    <tr style=\"text-align: right;\">\n",
       "      <th></th>\n",
       "      <th>Actual</th>\n",
       "      <th>Pred</th>\n",
       "    </tr>\n",
       "  </thead>\n",
       "  <tbody>\n",
       "    <tr>\n",
       "      <th>265</th>\n",
       "      <td>487.738</td>\n",
       "      <td>492.639</td>\n",
       "    </tr>\n",
       "    <tr>\n",
       "      <th>892</th>\n",
       "      <td>558.877</td>\n",
       "      <td>559.673</td>\n",
       "    </tr>\n",
       "    <tr>\n",
       "      <th>5</th>\n",
       "      <td>542.984</td>\n",
       "      <td>542.166</td>\n",
       "    </tr>\n",
       "    <tr>\n",
       "      <th>950</th>\n",
       "      <td>478.048</td>\n",
       "      <td>481.585</td>\n",
       "    </tr>\n",
       "    <tr>\n",
       "      <th>922</th>\n",
       "      <td>425.483</td>\n",
       "      <td>433.219</td>\n",
       "    </tr>\n",
       "    <tr>\n",
       "      <th>599</th>\n",
       "      <td>475.947</td>\n",
       "      <td>479.641</td>\n",
       "    </tr>\n",
       "    <tr>\n",
       "      <th>826</th>\n",
       "      <td>511.893</td>\n",
       "      <td>517.802</td>\n",
       "    </tr>\n",
       "    <tr>\n",
       "      <th>708</th>\n",
       "      <td>470.964</td>\n",
       "      <td>472.646</td>\n",
       "    </tr>\n",
       "    <tr>\n",
       "      <th>761</th>\n",
       "      <td>674.311</td>\n",
       "      <td>661.605</td>\n",
       "    </tr>\n",
       "    <tr>\n",
       "      <th>289</th>\n",
       "      <td>530.135</td>\n",
       "      <td>530.261</td>\n",
       "    </tr>\n",
       "  </tbody>\n",
       "</table>\n",
       "</div>"
      ],
      "text/plain": [
       "     Actual    Pred\n",
       "265 487.738 492.639\n",
       "892 558.877 559.673\n",
       "5   542.984 542.166\n",
       "950 478.048 481.585\n",
       "922 425.483 433.219\n",
       "599 475.947 479.641\n",
       "826 511.893 517.802\n",
       "708 470.964 472.646\n",
       "761 674.311 661.605\n",
       "289 530.135 530.261"
      ]
     },
     "execution_count": 55,
     "metadata": {},
     "output_type": "execute_result"
    }
   ],
   "source": [
    "my_dict = {\"Actual\": y_test, \"Pred\": y_pred.reshape(-1, )}\n",
    "compare = pd.DataFrame(my_dict)\n",
    "compare.sample(10)"
   ]
  },
  {
   "cell_type": "code",
   "execution_count": 57,
   "metadata": {
    "ExecuteTime": {
     "end_time": "2022-09-29T19:41:06.432413Z",
     "start_time": "2022-09-29T19:41:06.197913Z"
    }
   },
   "outputs": [
    {
     "data": {
      "image/png": "[encoded data removed]",
      "text/plain": [
       "<Figure size 1000x600 with 1 Axes>"
      ]
     },
     "metadata": {},
     "output_type": "display_data"
    }
   ],
   "source": [
    "sns.scatterplot(x='Actual', y='Pred', data=compare)\n",
    "plt.show()"
   ]
  },
  {
   "cell_type": "code",
   "execution_count": 58,
   "metadata": {
    "ExecuteTime": {
     "end_time": "2022-09-29T19:41:30.927013Z",
     "start_time": "2022-09-29T19:41:30.896095Z"
    }
   },
   "outputs": [],
   "source": [
    "def eval_metric(actual, pred):\n",
    "    mae = mean_absolute_error(actual, pred)\n",
    "    mse = mean_squared_error(actual, pred)\n",
    "    rmse = np.sqrt(mean_squared_error(actual, pred))\n",
    "    score = r2_score(actual, pred)\n",
    "    return print(\"r2_score:\", score, \"\\nmae:\", mae, \"\\nmse:\", mse, \"\\nrmse:\",\n",
    "                 rmse)"
   ]
  },
  {
   "cell_type": "code",
   "execution_count": 59,
   "metadata": {
    "ExecuteTime": {
     "end_time": "2022-09-29T19:41:32.681864Z",
     "start_time": "2022-09-29T19:41:32.636834Z"
    }
   },
   "outputs": [
    {
     "name": "stdout",
     "output_type": "stream",
     "text": [
      "r2_score: 0.9971042085502739 \n",
      "mae: 4.041892433761182 \n",
      "mse: 25.459890122422465 \n",
      "rmse: 5.0457794365610615\n"
     ]
    }
   ],
   "source": [
    "eval_metric(y_test, y_pred)"
   ]
  },
  {
   "cell_type": "markdown",
   "metadata": {},
   "source": [
    "## Final Model and Model Deployment"
   ]
  },
  {
   "cell_type": "markdown",
   "metadata": {},
   "source": [
    "### Final Model Training"
   ]
  },
  {
   "cell_type": "code",
   "execution_count": 60,
   "metadata": {
    "ExecuteTime": {
     "end_time": "2022-09-29T19:47:07.584563Z",
     "start_time": "2022-09-29T19:47:07.549913Z"
    }
   },
   "outputs": [],
   "source": [
    "scaler = MinMaxScaler().fit(X)"
   ]
  },
  {
   "cell_type": "code",
   "execution_count": 61,
   "metadata": {
    "ExecuteTime": {
     "end_time": "2022-09-29T19:47:08.479721Z",
     "start_time": "2022-09-29T19:47:08.459773Z"
    }
   },
   "outputs": [],
   "source": [
    "import pickle\n",
    "\n",
    "pickle.dump(scaler, open(\"scaler_fake_reg\", 'wb'))"
   ]
  },
  {
   "cell_type": "code",
   "execution_count": 62,
   "metadata": {
    "ExecuteTime": {
     "end_time": "2022-09-29T19:47:10.086506Z",
     "start_time": "2022-09-29T19:47:10.064990Z"
    }
   },
   "outputs": [],
   "source": [
    "X_scaled = scaler.transform(X)"
   ]
  },
  {
   "cell_type": "code",
   "execution_count": 63,
   "metadata": {
    "ExecuteTime": {
     "end_time": "2022-09-29T19:47:37.804592Z",
     "start_time": "2022-09-29T19:47:11.758615Z"
    }
   },
   "outputs": [
    {
     "name": "stdout",
     "output_type": "stream",
     "text": [
      "Epoch 1/250\n",
      "32/32 [==============================] - 1s 3ms/step - loss: 257337.8125\n",
      "Epoch 2/250\n",
      "32/32 [==============================] - 0s 3ms/step - loss: 257147.8438\n",
      "Epoch 3/250\n",
      "32/32 [==============================] - 0s 7ms/step - loss: 256941.6094\n",
      "Epoch 4/250\n",
      "32/32 [==============================] - 0s 7ms/step - loss: 256710.8594\n",
      "Epoch 5/250\n",
      "32/32 [==============================] - 0s 6ms/step - loss: 256457.6875\n",
      "Epoch 6/250\n",
      "32/32 [==============================] - 0s 8ms/step - loss: 256177.6875\n",
      "Epoch 7/250\n",
      "32/32 [==============================] - 0s 6ms/step - loss: 255869.1094\n",
      "Epoch 8/250\n",
      "32/32 [==============================] - 0s 7ms/step - loss: 255525.2812\n",
      "Epoch 9/250\n",
      "32/32 [==============================] - 0s 2ms/step - loss: 255144.5625\n",
      "Epoch 10/250\n",
      "32/32 [==============================] - 0s 4ms/step - loss: 254724.1562\n",
      "Epoch 11/250\n",
      "32/32 [==============================] - 0s 5ms/step - loss: 254260.6406\n",
      "Epoch 12/250\n",
      "32/32 [==============================] - 0s 7ms/step - loss: 253749.2656\n",
      "Epoch 13/250\n",
      "32/32 [==============================] - 0s 6ms/step - loss: 253191.7344\n",
      "Epoch 14/250\n",
      "32/32 [==============================] - 0s 7ms/step - loss: 252579.7500\n",
      "Epoch 15/250\n",
      "32/32 [==============================] - 0s 7ms/step - loss: 251915.3281\n",
      "Epoch 16/250\n",
      "32/32 [==============================] - 0s 3ms/step - loss: 251189.6875\n",
      "Epoch 17/250\n",
      "32/32 [==============================] - 0s 7ms/step - loss: 250404.6562\n",
      "Epoch 18/250\n",
      "32/32 [==============================] - 0s 4ms/step - loss: 249553.7031\n",
      "Epoch 19/250\n",
      "32/32 [==============================] - 0s 6ms/step - loss: 248632.0469\n",
      "Epoch 20/250\n",
      "32/32 [==============================] - 0s 5ms/step - loss: 247640.7188\n",
      "Epoch 21/250\n",
      "32/32 [==============================] - 0s 4ms/step - loss: 246575.8594\n",
      "Epoch 22/250\n",
      "32/32 [==============================] - 0s 5ms/step - loss: 245425.6875\n",
      "Epoch 23/250\n",
      "32/32 [==============================] - 0s 4ms/step - loss: 244199.3906\n",
      "Epoch 24/250\n",
      "32/32 [==============================] - 0s 2ms/step - loss: 242880.1250\n",
      "Epoch 25/250\n",
      "32/32 [==============================] - 0s 6ms/step - loss: 241465.0625\n",
      "Epoch 26/250\n",
      "32/32 [==============================] - 0s 6ms/step - loss: 239945.5000\n",
      "Epoch 27/250\n",
      "32/32 [==============================] - 0s 3ms/step - loss: 238301.9375\n",
      "Epoch 28/250\n",
      "32/32 [==============================] - 0s 4ms/step - loss: 236522.2188\n",
      "Epoch 29/250\n",
      "32/32 [==============================] - 0s 3ms/step - loss: 234614.1250\n",
      "Epoch 30/250\n",
      "32/32 [==============================] - 0s 4ms/step - loss: 232550.7188\n",
      "Epoch 31/250\n",
      "32/32 [==============================] - 0s 4ms/step - loss: 230361.2031\n",
      "Epoch 32/250\n",
      "32/32 [==============================] - 0s 3ms/step - loss: 228014.8438\n",
      "Epoch 33/250\n",
      "32/32 [==============================] - 0s 3ms/step - loss: 225497.4219\n",
      "Epoch 34/250\n",
      "32/32 [==============================] - 0s 2ms/step - loss: 222828.8438\n",
      "Epoch 35/250\n",
      "32/32 [==============================] - 0s 5ms/step - loss: 219998.7031\n",
      "Epoch 36/250\n",
      "32/32 [==============================] - 0s 6ms/step - loss: 217001.8438\n",
      "Epoch 37/250\n",
      "32/32 [==============================] - 0s 4ms/step - loss: 213821.7656\n",
      "Epoch 38/250\n",
      "32/32 [==============================] - 0s 5ms/step - loss: 210486.1250\n",
      "Epoch 39/250\n",
      "32/32 [==============================] - 0s 6ms/step - loss: 206962.5156\n",
      "Epoch 40/250\n",
      "32/32 [==============================] - 0s 4ms/step - loss: 203247.3281\n",
      "Epoch 41/250\n",
      "32/32 [==============================] - 0s 4ms/step - loss: 199340.7812\n",
      "Epoch 42/250\n",
      "32/32 [==============================] - 0s 4ms/step - loss: 195248.8750\n",
      "Epoch 43/250\n",
      "32/32 [==============================] - 0s 2ms/step - loss: 190973.9844\n",
      "Epoch 44/250\n",
      "32/32 [==============================] - 0s 2ms/step - loss: 186479.6562\n",
      "Epoch 45/250\n",
      "32/32 [==============================] - 0s 2ms/step - loss: 181823.7344\n",
      "Epoch 46/250\n",
      "32/32 [==============================] - 0s 2ms/step - loss: 176966.7969\n",
      "Epoch 47/250\n",
      "32/32 [==============================] - 0s 3ms/step - loss: 171905.5938\n",
      "Epoch 48/250\n",
      "32/32 [==============================] - 0s 2ms/step - loss: 166684.2656\n",
      "Epoch 49/250\n",
      "32/32 [==============================] - 0s 6ms/step - loss: 161254.0938\n",
      "Epoch 50/250\n",
      "32/32 [==============================] - 0s 2ms/step - loss: 155649.6094\n",
      "Epoch 51/250\n",
      "32/32 [==============================] - 0s 5ms/step - loss: 149863.9219\n",
      "Epoch 52/250\n",
      "32/32 [==============================] - 0s 4ms/step - loss: 143926.4688\n",
      "Epoch 53/250\n",
      "32/32 [==============================] - 0s 4ms/step - loss: 137822.4688\n",
      "Epoch 54/250\n",
      "32/32 [==============================] - 0s 6ms/step - loss: 131592.1250\n",
      "Epoch 55/250\n",
      "32/32 [==============================] - 0s 8ms/step - loss: 125179.8750\n",
      "Epoch 56/250\n",
      "32/32 [==============================] - 0s 3ms/step - loss: 118669.4297\n",
      "Epoch 57/250\n",
      "32/32 [==============================] - 0s 2ms/step - loss: 112103.5938\n",
      "Epoch 58/250\n",
      "32/32 [==============================] - 0s 3ms/step - loss: 105383.9609\n",
      "Epoch 59/250\n",
      "32/32 [==============================] - 0s 1ms/step - loss: 98593.6250\n",
      "Epoch 60/250\n",
      "32/32 [==============================] - 0s 1ms/step - loss: 91784.6875\n",
      "Epoch 61/250\n",
      "32/32 [==============================] - 0s 2ms/step - loss: 84946.1016\n",
      "Epoch 62/250\n",
      "32/32 [==============================] - 0s 3ms/step - loss: 78094.0938\n",
      "Epoch 63/250\n",
      "32/32 [==============================] - 0s 3ms/step - loss: 71293.6797\n",
      "Epoch 64/250\n",
      "32/32 [==============================] - 0s 2ms/step - loss: 64551.8672\n",
      "Epoch 65/250\n",
      "32/32 [==============================] - 0s 1ms/step - loss: 57930.6641\n",
      "Epoch 66/250\n",
      "32/32 [==============================] - 0s 2ms/step - loss: 51424.5039\n",
      "Epoch 67/250\n",
      "32/32 [==============================] - 0s 3ms/step - loss: 45124.0625\n",
      "Epoch 68/250\n",
      "32/32 [==============================] - 0s 5ms/step - loss: 39063.5430\n",
      "Epoch 69/250\n",
      "32/32 [==============================] - 0s 4ms/step - loss: 33248.6875\n",
      "Epoch 70/250\n",
      "32/32 [==============================] - 0s 2ms/step - loss: 27737.2676\n",
      "Epoch 71/250\n",
      "32/32 [==============================] - 0s 2ms/step - loss: 22633.2031\n",
      "Epoch 72/250\n",
      "32/32 [==============================] - 0s 2ms/step - loss: 17989.5352\n",
      "Epoch 73/250\n",
      "32/32 [==============================] - 0s 1ms/step - loss: 13804.9521\n",
      "Epoch 74/250\n",
      "32/32 [==============================] - 0s 2ms/step - loss: 10195.9307\n",
      "Epoch 75/250\n",
      "32/32 [==============================] - 0s 1ms/step - loss: 7239.3037\n",
      "Epoch 76/250\n",
      "32/32 [==============================] - 0s 3ms/step - loss: 4944.5063\n",
      "Epoch 77/250\n",
      "32/32 [==============================] - 0s 5ms/step - loss: 3362.0405\n",
      "Epoch 78/250\n",
      "32/32 [==============================] - 0s 2ms/step - loss: 2528.7324\n",
      "Epoch 79/250\n",
      "32/32 [==============================] - 0s 2ms/step - loss: 2251.3704\n",
      "Epoch 80/250\n",
      "32/32 [==============================] - 0s 4ms/step - loss: 2199.9885\n",
      "Epoch 81/250\n",
      "32/32 [==============================] - 0s 3ms/step - loss: 2162.0503\n",
      "Epoch 82/250\n",
      "32/32 [==============================] - 0s 2ms/step - loss: 2125.4622\n",
      "Epoch 83/250\n",
      "32/32 [==============================] - 0s 2ms/step - loss: 2089.7263\n",
      "Epoch 84/250\n",
      "32/32 [==============================] - 0s 3ms/step - loss: 2050.1592\n",
      "Epoch 85/250\n",
      "32/32 [==============================] - 0s 2ms/step - loss: 2009.7770\n",
      "Epoch 86/250\n",
      "32/32 [==============================] - 0s 2ms/step - loss: 1975.9380\n",
      "Epoch 87/250\n",
      "32/32 [==============================] - 0s 2ms/step - loss: 1941.4517\n",
      "Epoch 88/250\n",
      "32/32 [==============================] - 0s 3ms/step - loss: 1903.3328\n",
      "Epoch 89/250\n",
      "32/32 [==============================] - 0s 2ms/step - loss: 1866.3933\n",
      "Epoch 90/250\n",
      "32/32 [==============================] - 0s 2ms/step - loss: 1830.2687\n",
      "Epoch 91/250\n",
      "32/32 [==============================] - 0s 2ms/step - loss: 1795.6444\n",
      "Epoch 92/250\n",
      "32/32 [==============================] - 0s 2ms/step - loss: 1754.3101\n",
      "Epoch 93/250\n",
      "32/32 [==============================] - 0s 1ms/step - loss: 1715.2783\n",
      "Epoch 94/250\n",
      "32/32 [==============================] - 0s 1ms/step - loss: 1676.4274\n",
      "Epoch 95/250\n",
      "32/32 [==============================] - 0s 2ms/step - loss: 1641.6473\n",
      "Epoch 96/250\n",
      "32/32 [==============================] - 0s 4ms/step - loss: 1602.9786\n",
      "Epoch 97/250\n"
     ]
    },
    {
     "name": "stdout",
     "output_type": "stream",
     "text": [
      "32/32 [==============================] - 0s 4ms/step - loss: 1567.5309\n",
      "Epoch 98/250\n",
      "32/32 [==============================] - 0s 1ms/step - loss: 1535.3610\n",
      "Epoch 99/250\n",
      "32/32 [==============================] - 0s 2ms/step - loss: 1502.2892\n",
      "Epoch 100/250\n",
      "32/32 [==============================] - 0s 1ms/step - loss: 1464.8717\n",
      "Epoch 101/250\n",
      "32/32 [==============================] - 0s 3ms/step - loss: 1428.4807\n",
      "Epoch 102/250\n",
      "32/32 [==============================] - 0s 3ms/step - loss: 1390.8561\n",
      "Epoch 103/250\n",
      "32/32 [==============================] - 0s 2ms/step - loss: 1360.6423\n",
      "Epoch 104/250\n",
      "32/32 [==============================] - 0s 2ms/step - loss: 1326.8606\n",
      "Epoch 105/250\n",
      "32/32 [==============================] - 0s 2ms/step - loss: 1289.1423\n",
      "Epoch 106/250\n",
      "32/32 [==============================] - 0s 1ms/step - loss: 1256.1564\n",
      "Epoch 107/250\n",
      "32/32 [==============================] - 0s 1ms/step - loss: 1221.0228\n",
      "Epoch 108/250\n",
      "32/32 [==============================] - 0s 3ms/step - loss: 1188.6462\n",
      "Epoch 109/250\n",
      "32/32 [==============================] - 0s 2ms/step - loss: 1159.4691\n",
      "Epoch 110/250\n",
      "32/32 [==============================] - 0s 4ms/step - loss: 1122.9275\n",
      "Epoch 111/250\n",
      "32/32 [==============================] - 0s 4ms/step - loss: 1092.7609\n",
      "Epoch 112/250\n",
      "32/32 [==============================] - 0s 2ms/step - loss: 1063.5381\n",
      "Epoch 113/250\n",
      "32/32 [==============================] - 0s 3ms/step - loss: 1029.8274\n",
      "Epoch 114/250\n",
      "32/32 [==============================] - 0s 4ms/step - loss: 998.6731\n",
      "Epoch 115/250\n",
      "32/32 [==============================] - 0s 1ms/step - loss: 970.1716\n",
      "Epoch 116/250\n",
      "32/32 [==============================] - 0s 1ms/step - loss: 940.6755\n",
      "Epoch 117/250\n",
      "32/32 [==============================] - 0s 2ms/step - loss: 907.3786\n",
      "Epoch 118/250\n",
      "32/32 [==============================] - 0s 2ms/step - loss: 876.1638\n",
      "Epoch 119/250\n",
      "32/32 [==============================] - 0s 3ms/step - loss: 846.5679\n",
      "Epoch 120/250\n",
      "32/32 [==============================] - 0s 2ms/step - loss: 816.5471\n",
      "Epoch 121/250\n",
      "32/32 [==============================] - 0s 2ms/step - loss: 789.3261\n",
      "Epoch 122/250\n",
      "32/32 [==============================] - 0s 1ms/step - loss: 761.8323\n",
      "Epoch 123/250\n",
      "32/32 [==============================] - 0s 1ms/step - loss: 734.1547\n",
      "Epoch 124/250\n",
      "32/32 [==============================] - 0s 2ms/step - loss: 706.9337\n",
      "Epoch 125/250\n",
      "32/32 [==============================] - 0s 2ms/step - loss: 674.6270\n",
      "Epoch 126/250\n",
      "32/32 [==============================] - 0s 1ms/step - loss: 646.6682\n",
      "Epoch 127/250\n",
      "32/32 [==============================] - 0s 1ms/step - loss: 619.7819\n",
      "Epoch 128/250\n",
      "32/32 [==============================] - 0s 2ms/step - loss: 593.9990\n",
      "Epoch 129/250\n",
      "32/32 [==============================] - 0s 5ms/step - loss: 568.0257\n",
      "Epoch 130/250\n",
      "32/32 [==============================] - 0s 6ms/step - loss: 545.1358\n",
      "Epoch 131/250\n",
      "32/32 [==============================] - 0s 3ms/step - loss: 518.8231\n",
      "Epoch 132/250\n",
      "32/32 [==============================] - 0s 2ms/step - loss: 493.2009\n",
      "Epoch 133/250\n",
      "32/32 [==============================] - 0s 2ms/step - loss: 468.3228\n",
      "Epoch 134/250\n",
      "32/32 [==============================] - 0s 1ms/step - loss: 446.5123\n",
      "Epoch 135/250\n",
      "32/32 [==============================] - 0s 1ms/step - loss: 425.1176\n",
      "Epoch 136/250\n",
      "32/32 [==============================] - 0s 2ms/step - loss: 402.5116\n",
      "Epoch 137/250\n",
      "32/32 [==============================] - 0s 2ms/step - loss: 381.7796\n",
      "Epoch 138/250\n",
      "32/32 [==============================] - 0s 2ms/step - loss: 361.9225\n",
      "Epoch 139/250\n",
      "32/32 [==============================] - 0s 2ms/step - loss: 341.6212\n",
      "Epoch 140/250\n",
      "32/32 [==============================] - 0s 2ms/step - loss: 324.4392\n",
      "Epoch 141/250\n",
      "32/32 [==============================] - 0s 4ms/step - loss: 304.5765\n",
      "Epoch 142/250\n",
      "32/32 [==============================] - 0s 2ms/step - loss: 286.0755\n",
      "Epoch 143/250\n",
      "32/32 [==============================] - 0s 1ms/step - loss: 268.5455\n",
      "Epoch 144/250\n",
      "32/32 [==============================] - 0s 1ms/step - loss: 250.5078\n",
      "Epoch 145/250\n",
      "32/32 [==============================] - 0s 1ms/step - loss: 232.3759\n",
      "Epoch 146/250\n",
      "32/32 [==============================] - 0s 2ms/step - loss: 216.8891\n",
      "Epoch 147/250\n",
      "32/32 [==============================] - 0s 2ms/step - loss: 201.3157\n",
      "Epoch 148/250\n",
      "32/32 [==============================] - 0s 4ms/step - loss: 187.1858\n",
      "Epoch 149/250\n",
      "32/32 [==============================] - 0s 3ms/step - loss: 173.7147\n",
      "Epoch 150/250\n",
      "32/32 [==============================] - 0s 2ms/step - loss: 161.2550\n",
      "Epoch 151/250\n",
      "32/32 [==============================] - 0s 3ms/step - loss: 147.9279\n",
      "Epoch 152/250\n",
      "32/32 [==============================] - 0s 6ms/step - loss: 135.3154\n",
      "Epoch 153/250\n",
      "32/32 [==============================] - 0s 5ms/step - loss: 125.7447\n",
      "Epoch 154/250\n",
      "32/32 [==============================] - 0s 1ms/step - loss: 114.5095\n",
      "Epoch 155/250\n",
      "32/32 [==============================] - 0s 1ms/step - loss: 104.6362\n",
      "Epoch 156/250\n",
      "32/32 [==============================] - 0s 2ms/step - loss: 95.4736\n",
      "Epoch 157/250\n",
      "32/32 [==============================] - 0s 3ms/step - loss: 86.3045\n",
      "Epoch 158/250\n",
      "32/32 [==============================] - 0s 4ms/step - loss: 77.5664\n",
      "Epoch 159/250\n",
      "32/32 [==============================] - 0s 2ms/step - loss: 71.6037\n",
      "Epoch 160/250\n",
      "32/32 [==============================] - 0s 2ms/step - loss: 65.7056\n",
      "Epoch 161/250\n",
      "32/32 [==============================] - 0s 4ms/step - loss: 59.6510\n",
      "Epoch 162/250\n",
      "32/32 [==============================] - 0s 4ms/step - loss: 54.3766\n",
      "Epoch 163/250\n",
      "32/32 [==============================] - 0s 4ms/step - loss: 49.2400\n",
      "Epoch 164/250\n",
      "32/32 [==============================] - 0s 2ms/step - loss: 45.1462\n",
      "Epoch 165/250\n",
      "32/32 [==============================] - 0s 2ms/step - loss: 42.0223\n",
      "Epoch 166/250\n",
      "32/32 [==============================] - 0s 1ms/step - loss: 38.9070\n",
      "Epoch 167/250\n",
      "32/32 [==============================] - 0s 2ms/step - loss: 36.1392\n",
      "Epoch 168/250\n",
      "32/32 [==============================] - 0s 2ms/step - loss: 34.3193\n",
      "Epoch 169/250\n",
      "32/32 [==============================] - 0s 2ms/step - loss: 32.4344\n",
      "Epoch 170/250\n",
      "32/32 [==============================] - 0s 2ms/step - loss: 30.7825\n",
      "Epoch 171/250\n",
      "32/32 [==============================] - 0s 2ms/step - loss: 29.6479\n",
      "Epoch 172/250\n",
      "32/32 [==============================] - 0s 3ms/step - loss: 28.3458\n",
      "Epoch 173/250\n",
      "32/32 [==============================] - 0s 2ms/step - loss: 27.5219\n",
      "Epoch 174/250\n",
      "32/32 [==============================] - 0s 2ms/step - loss: 27.2441\n",
      "Epoch 175/250\n",
      "32/32 [==============================] - 0s 2ms/step - loss: 26.3514\n",
      "Epoch 176/250\n",
      "32/32 [==============================] - 0s 2ms/step - loss: 26.1752\n",
      "Epoch 177/250\n",
      "32/32 [==============================] - 0s 4ms/step - loss: 25.6430\n",
      "Epoch 178/250\n",
      "32/32 [==============================] - 0s 2ms/step - loss: 25.4850\n",
      "Epoch 179/250\n",
      "32/32 [==============================] - 0s 3ms/step - loss: 25.4490\n",
      "Epoch 180/250\n",
      "32/32 [==============================] - 0s 2ms/step - loss: 25.2502\n",
      "Epoch 181/250\n",
      "32/32 [==============================] - 0s 2ms/step - loss: 25.2423\n",
      "Epoch 182/250\n",
      "32/32 [==============================] - 0s 4ms/step - loss: 24.7214\n",
      "Epoch 183/250\n",
      "32/32 [==============================] - 0s 5ms/step - loss: 24.7500\n",
      "Epoch 184/250\n",
      "32/32 [==============================] - 0s 4ms/step - loss: 24.7947\n",
      "Epoch 185/250\n",
      "32/32 [==============================] - 0s 2ms/step - loss: 24.4766\n",
      "Epoch 186/250\n",
      "32/32 [==============================] - 0s 2ms/step - loss: 24.5821\n",
      "Epoch 187/250\n",
      "32/32 [==============================] - 0s 4ms/step - loss: 24.5250\n",
      "Epoch 188/250\n",
      "32/32 [==============================] - 0s 3ms/step - loss: 24.7840\n",
      "Epoch 189/250\n",
      "32/32 [==============================] - 0s 2ms/step - loss: 24.5461\n",
      "Epoch 190/250\n",
      "32/32 [==============================] - 0s 2ms/step - loss: 24.4641\n",
      "Epoch 191/250\n",
      "32/32 [==============================] - 0s 2ms/step - loss: 24.5228\n",
      "Epoch 192/250\n",
      "32/32 [==============================] - 0s 2ms/step - loss: 24.7052\n",
      "Epoch 193/250\n",
      "32/32 [==============================] - 0s 3ms/step - loss: 24.4940\n",
      "Epoch 194/250\n",
      "32/32 [==============================] - 0s 3ms/step - loss: 24.7420\n"
     ]
    },
    {
     "name": "stdout",
     "output_type": "stream",
     "text": [
      "Epoch 195/250\n",
      "32/32 [==============================] - 0s 2ms/step - loss: 24.5617\n",
      "Epoch 196/250\n",
      "32/32 [==============================] - 0s 2ms/step - loss: 24.6837\n",
      "Epoch 197/250\n",
      "32/32 [==============================] - 0s 2ms/step - loss: 24.4470\n",
      "Epoch 198/250\n",
      "32/32 [==============================] - 0s 2ms/step - loss: 24.6576\n",
      "Epoch 199/250\n",
      "32/32 [==============================] - 0s 2ms/step - loss: 24.4888\n",
      "Epoch 200/250\n",
      "32/32 [==============================] - 0s 4ms/step - loss: 24.7229\n",
      "Epoch 201/250\n",
      "32/32 [==============================] - 0s 4ms/step - loss: 24.3170\n",
      "Epoch 202/250\n",
      "32/32 [==============================] - 0s 3ms/step - loss: 24.6222\n",
      "Epoch 203/250\n",
      "32/32 [==============================] - 0s 3ms/step - loss: 24.5246\n",
      "Epoch 204/250\n",
      "32/32 [==============================] - 0s 3ms/step - loss: 24.2750\n",
      "Epoch 205/250\n",
      "32/32 [==============================] - 0s 4ms/step - loss: 24.8512\n",
      "Epoch 206/250\n",
      "32/32 [==============================] - 0s 2ms/step - loss: 24.5191\n",
      "Epoch 207/250\n",
      "32/32 [==============================] - 0s 2ms/step - loss: 24.4608\n",
      "Epoch 208/250\n",
      "32/32 [==============================] - 0s 2ms/step - loss: 24.7667\n",
      "Epoch 209/250\n",
      "32/32 [==============================] - 0s 2ms/step - loss: 24.5065\n",
      "Epoch 210/250\n",
      "32/32 [==============================] - 0s 3ms/step - loss: 24.4618\n",
      "Epoch 211/250\n",
      "32/32 [==============================] - 0s 4ms/step - loss: 24.6292\n",
      "Epoch 212/250\n",
      "32/32 [==============================] - 0s 4ms/step - loss: 24.6794\n",
      "Epoch 213/250\n",
      "32/32 [==============================] - 0s 2ms/step - loss: 24.4263\n",
      "Epoch 214/250\n",
      "32/32 [==============================] - 0s 3ms/step - loss: 24.5399\n",
      "Epoch 215/250\n",
      "32/32 [==============================] - 0s 2ms/step - loss: 24.7366\n",
      "Epoch 216/250\n",
      "32/32 [==============================] - 0s 3ms/step - loss: 24.4472\n",
      "Epoch 217/250\n",
      "32/32 [==============================] - 0s 2ms/step - loss: 24.6258\n",
      "Epoch 218/250\n",
      "32/32 [==============================] - 0s 3ms/step - loss: 24.6216\n",
      "Epoch 219/250\n",
      "32/32 [==============================] - 0s 2ms/step - loss: 24.5613\n",
      "Epoch 220/250\n",
      "32/32 [==============================] - 0s 3ms/step - loss: 24.5489\n",
      "Epoch 221/250\n",
      "32/32 [==============================] - 0s 5ms/step - loss: 24.4635\n",
      "Epoch 222/250\n",
      "32/32 [==============================] - 0s 4ms/step - loss: 24.6405\n",
      "Epoch 223/250\n",
      "32/32 [==============================] - 0s 7ms/step - loss: 24.4073\n",
      "Epoch 224/250\n",
      "32/32 [==============================] - 0s 3ms/step - loss: 24.6265\n",
      "Epoch 225/250\n",
      "32/32 [==============================] - 0s 3ms/step - loss: 24.6023\n",
      "Epoch 226/250\n",
      "32/32 [==============================] - 0s 3ms/step - loss: 24.5034\n",
      "Epoch 227/250\n",
      "32/32 [==============================] - 0s 2ms/step - loss: 24.5093\n",
      "Epoch 228/250\n",
      "32/32 [==============================] - 0s 3ms/step - loss: 24.4254\n",
      "Epoch 229/250\n",
      "32/32 [==============================] - 0s 6ms/step - loss: 24.3759\n",
      "Epoch 230/250\n",
      "32/32 [==============================] - 0s 2ms/step - loss: 24.7047\n",
      "Epoch 231/250\n",
      "32/32 [==============================] - 0s 3ms/step - loss: 24.7077\n",
      "Epoch 232/250\n",
      "32/32 [==============================] - 0s 4ms/step - loss: 24.5594\n",
      "Epoch 233/250\n",
      "32/32 [==============================] - 0s 2ms/step - loss: 24.7404\n",
      "Epoch 234/250\n",
      "32/32 [==============================] - 0s 2ms/step - loss: 24.2689\n",
      "Epoch 235/250\n",
      "32/32 [==============================] - 0s 2ms/step - loss: 24.4760\n",
      "Epoch 236/250\n",
      "32/32 [==============================] - 0s 3ms/step - loss: 24.5447\n",
      "Epoch 237/250\n",
      "32/32 [==============================] - 0s 5ms/step - loss: 24.8762\n",
      "Epoch 238/250\n",
      "32/32 [==============================] - 0s 2ms/step - loss: 24.6316\n",
      "Epoch 239/250\n",
      "32/32 [==============================] - 0s 3ms/step - loss: 24.2586\n",
      "Epoch 240/250\n",
      "32/32 [==============================] - 0s 2ms/step - loss: 24.7739\n",
      "Epoch 241/250\n",
      "32/32 [==============================] - 0s 2ms/step - loss: 24.5074\n",
      "Epoch 242/250\n",
      "32/32 [==============================] - 0s 2ms/step - loss: 24.7812\n",
      "Epoch 243/250\n",
      "32/32 [==============================] - 0s 2ms/step - loss: 24.5218\n",
      "Epoch 244/250\n",
      "32/32 [==============================] - 0s 2ms/step - loss: 24.4916\n",
      "Epoch 245/250\n",
      "32/32 [==============================] - 0s 2ms/step - loss: 24.5879\n",
      "Epoch 246/250\n",
      "32/32 [==============================] - 0s 3ms/step - loss: 24.4660\n",
      "Epoch 247/250\n",
      "32/32 [==============================] - 0s 1ms/step - loss: 24.5836\n",
      "Epoch 248/250\n",
      "32/32 [==============================] - 0s 1ms/step - loss: 24.6325\n",
      "Epoch 249/250\n",
      "32/32 [==============================] - 0s 2ms/step - loss: 24.7412\n",
      "Epoch 250/250\n",
      "32/32 [==============================] - 0s 3ms/step - loss: 24.6567\n"
     ]
    },
    {
     "data": {
      "text/plain": [
       "<keras.callbacks.History at 0x241b47b4df0>"
      ]
     },
     "execution_count": 63,
     "metadata": {},
     "output_type": "execute_result"
    }
   ],
   "source": [
    "final_model = Sequential()\n",
    "\n",
    "final_model.add(Dense(units = 4, activation = \"relu\"))     # input_dim = 2 or input_dim = X_train.shape[1]\n",
    "final_model.add(Dense(units = 4, activation = \"relu\"))\n",
    "final_model.add(Dense(units = 4, activation = \"relu\"))\n",
    "final_model.add(Dense(1))\n",
    "\n",
    "final_model.compile(optimizer = \"rmsprop\", loss = \"mse\")\n",
    "\n",
    "final_model.fit(x = X_scaled, y = y, batch_size = 32, epochs = 250)"
   ]
  },
  {
   "cell_type": "code",
   "execution_count": 64,
   "metadata": {
    "ExecuteTime": {
     "end_time": "2022-09-29T19:47:43.184387Z",
     "start_time": "2022-09-29T19:47:43.101362Z"
    }
   },
   "outputs": [
    {
     "name": "stdout",
     "output_type": "stream",
     "text": [
      "Model: \"sequential_2\"\n",
      "_________________________________________________________________\n",
      " Layer (type)                Output Shape              Param #   \n",
      "=================================================================\n",
      " dense_8 (Dense)             (None, 4)                 12        \n",
      "                                                                 \n",
      " dense_9 (Dense)             (None, 4)                 20        \n",
      "                                                                 \n",
      " dense_10 (Dense)            (None, 4)                 20        \n",
      "                                                                 \n",
      " dense_11 (Dense)            (None, 1)                 5         \n",
      "                                                                 \n",
      "=================================================================\n",
      "Total params: 57\n",
      "Trainable params: 57\n",
      "Non-trainable params: 0\n",
      "_________________________________________________________________\n"
     ]
    }
   ],
   "source": [
    "final_model.summary()"
   ]
  },
  {
   "cell_type": "markdown",
   "metadata": {},
   "source": [
    "### Saving a Model"
   ]
  },
  {
   "cell_type": "markdown",
   "metadata": {},
   "source": [
    "You can save a TensorFlow/Keras model using [`model.save()`](https://www.tensorflow.org/tutorials/keras/save_and_load#save_the_entire_model).\n",
    "\n",
    "Keras saves models by inspecting their architectures. This technique saves everything:\n",
    "\n",
    "- The weight values\n",
    "- The model's architecture\n",
    "- The model's training configuration (what you pass to the .compile() method)\n",
    "- The optimizer and its state, if any (this enables you to restart training where you left off)\n",
    "\n",
    "There are two ways to save a model in TensorFlow:\n",
    "1. The [SavedModel format](https://www.tensorflow.org/tutorials/keras/save_and_load#savedmodel_format) (default).\n",
    "2. The [HDF5 format](https://www.tensorflow.org/tutorials/keras/save_and_load#hdf5_format).\n",
    "\n"
   ]
  },
  {
   "cell_type": "code",
   "execution_count": 65,
   "metadata": {
    "ExecuteTime": {
     "end_time": "2022-09-29T19:47:49.653744Z",
     "start_time": "2022-09-29T19:47:49.503665Z"
    }
   },
   "outputs": [],
   "source": [
    "final_model.save('model_fake_reg.h5')  # creates a HDF5 file 'my_model.h5'"
   ]
  },
  {
   "cell_type": "code",
   "execution_count": 69,
   "metadata": {},
   "outputs": [],
   "source": [
    "#final_model.save(\"model_fake_reg\") "
   ]
  },
  {
   "cell_type": "markdown",
   "metadata": {},
   "source": [
    "### Loading Model"
   ]
  },
  {
   "cell_type": "code",
   "execution_count": 66,
   "metadata": {
    "ExecuteTime": {
     "end_time": "2022-09-29T19:47:59.978649Z",
     "start_time": "2022-09-29T19:47:59.960731Z"
    }
   },
   "outputs": [],
   "source": [
    "from tensorflow.keras.models import load_model"
   ]
  },
  {
   "cell_type": "code",
   "execution_count": 67,
   "metadata": {
    "ExecuteTime": {
     "end_time": "2022-09-29T19:48:03.434406Z",
     "start_time": "2022-09-29T19:48:03.225521Z"
    }
   },
   "outputs": [],
   "source": [
    "model_fake_reg = load_model('model_fake_reg.h5')"
   ]
  },
  {
   "cell_type": "code",
   "execution_count": 68,
   "metadata": {
    "ExecuteTime": {
     "end_time": "2022-09-29T19:48:10.029384Z",
     "start_time": "2022-09-29T19:48:10.011401Z"
    }
   },
   "outputs": [],
   "source": [
    "scaler_fake_reg = pickle.load(open(\"scaler_fake_reg\", \"rb\"))"
   ]
  },
  {
   "cell_type": "markdown",
   "metadata": {},
   "source": [
    "## Prediction-1"
   ]
  },
  {
   "cell_type": "code",
   "execution_count": 69,
   "metadata": {
    "ExecuteTime": {
     "end_time": "2022-09-29T19:48:13.267683Z",
     "start_time": "2022-09-29T19:48:13.255671Z"
    }
   },
   "outputs": [],
   "source": [
    "sample = [[998, 1000]]"
   ]
  },
  {
   "cell_type": "code",
   "execution_count": 70,
   "metadata": {
    "ExecuteTime": {
     "end_time": "2022-09-29T19:48:14.120770Z",
     "start_time": "2022-09-29T19:48:14.082637Z"
    }
   },
   "outputs": [],
   "source": [
    "sample_scaled = scaler_fake_reg.transform(sample)"
   ]
  },
  {
   "cell_type": "code",
   "execution_count": 71,
   "metadata": {
    "ExecuteTime": {
     "end_time": "2022-09-29T19:48:19.767409Z",
     "start_time": "2022-09-29T19:48:19.453636Z"
    }
   },
   "outputs": [
    {
     "name": "stdout",
     "output_type": "stream",
     "text": [
      "1/1 [==============================] - 0s 145ms/step\n"
     ]
    },
    {
     "data": {
      "text/plain": [
       "array([[418.84186]], dtype=float32)"
      ]
     },
     "execution_count": 71,
     "metadata": {},
     "output_type": "execute_result"
    }
   ],
   "source": [
    "model_fake_reg.predict(sample_scaled)"
   ]
  },
  {
   "cell_type": "markdown",
   "metadata": {},
   "source": [
    "## Prediction-2"
   ]
  },
  {
   "cell_type": "code",
   "execution_count": 72,
   "metadata": {
    "ExecuteTime": {
     "end_time": "2022-09-29T19:48:28.903716Z",
     "start_time": "2022-09-29T19:48:28.882901Z"
    }
   },
   "outputs": [],
   "source": [
    "my_dict = {\"Feature1\": [997, 998, 999, 1000, 1001],\n",
    "           \"Feature2\": [1000, 999, 998, 997, 996]}"
   ]
  },
  {
   "cell_type": "code",
   "execution_count": 73,
   "metadata": {
    "ExecuteTime": {
     "end_time": "2022-09-29T19:48:29.586817Z",
     "start_time": "2022-09-29T19:48:29.567752Z"
    }
   },
   "outputs": [
    {
     "data": {
      "text/html": [
       "<div>\n",
       "<style scoped>\n",
       "    .dataframe tbody tr th:only-of-type {\n",
       "        vertical-align: middle;\n",
       "    }\n",
       "\n",
       "    .dataframe tbody tr th {\n",
       "        vertical-align: top;\n",
       "    }\n",
       "\n",
       "    .dataframe thead th {\n",
       "        text-align: right;\n",
       "    }\n",
       "</style>\n",
       "<table border=\"1\" class=\"dataframe\">\n",
       "  <thead>\n",
       "    <tr style=\"text-align: right;\">\n",
       "      <th></th>\n",
       "      <th>Feature1</th>\n",
       "      <th>Feature2</th>\n",
       "    </tr>\n",
       "  </thead>\n",
       "  <tbody>\n",
       "    <tr>\n",
       "      <th>0</th>\n",
       "      <td>997</td>\n",
       "      <td>1000</td>\n",
       "    </tr>\n",
       "    <tr>\n",
       "      <th>1</th>\n",
       "      <td>998</td>\n",
       "      <td>999</td>\n",
       "    </tr>\n",
       "    <tr>\n",
       "      <th>2</th>\n",
       "      <td>999</td>\n",
       "      <td>998</td>\n",
       "    </tr>\n",
       "    <tr>\n",
       "      <th>3</th>\n",
       "      <td>1000</td>\n",
       "      <td>997</td>\n",
       "    </tr>\n",
       "    <tr>\n",
       "      <th>4</th>\n",
       "      <td>1001</td>\n",
       "      <td>996</td>\n",
       "    </tr>\n",
       "  </tbody>\n",
       "</table>\n",
       "</div>"
      ],
      "text/plain": [
       "   Feature1  Feature2\n",
       "0       997      1000\n",
       "1       998       999\n",
       "2       999       998\n",
       "3      1000       997\n",
       "4      1001       996"
      ]
     },
     "execution_count": 73,
     "metadata": {},
     "output_type": "execute_result"
    }
   ],
   "source": [
    "sample = pd.DataFrame(my_dict)\n",
    "sample"
   ]
  },
  {
   "cell_type": "code",
   "execution_count": 74,
   "metadata": {
    "ExecuteTime": {
     "end_time": "2022-09-29T19:48:30.724939Z",
     "start_time": "2022-09-29T19:48:30.697368Z"
    }
   },
   "outputs": [
    {
     "data": {
      "text/plain": [
       "array([[-0.00948799,  0.52980619],\n",
       "       [ 0.15312457,  0.35345977],\n",
       "       [ 0.31573713,  0.17711336],\n",
       "       [ 0.47834969,  0.00076694],\n",
       "       [ 0.64096225, -0.17557948]])"
      ]
     },
     "execution_count": 74,
     "metadata": {},
     "output_type": "execute_result"
    }
   ],
   "source": [
    "sample_scaled = scaler_fake_reg.transform(sample)\n",
    "sample_scaled"
   ]
  },
  {
   "cell_type": "code",
   "execution_count": 75,
   "metadata": {
    "ExecuteTime": {
     "end_time": "2022-09-29T19:48:35.735208Z",
     "start_time": "2022-09-29T19:48:35.583704Z"
    }
   },
   "outputs": [
    {
     "name": "stdout",
     "output_type": "stream",
     "text": [
      "1/1 [==============================] - 0s 52ms/step\n"
     ]
    },
    {
     "data": {
      "text/plain": [
       "array([[378.77118],\n",
       "       [330.46014],\n",
       "       [282.14917],\n",
       "       [233.83818],\n",
       "       [184.8258 ]], dtype=float32)"
      ]
     },
     "execution_count": 75,
     "metadata": {},
     "output_type": "execute_result"
    }
   ],
   "source": [
    "model_fake_reg.predict(sample_scaled)"
   ]
  },
  {
   "cell_type": "markdown",
   "metadata": {},
   "source": [
    "___\n",
    "\n",
    "<p style=\"text-align: center;\"><img src=\"https://docs.google.com/uc?id=1lY0Uj5R04yMY3-ZppPWxqCr5pvBLYPnV\" class=\"img-fluid\" alt=\"CLRSWY\"></p>\n",
    "\n",
    "___"
   ]
  }
 ],
 "metadata": {
  "interpreter": {
   "hash": "aee8b7b246df8f9039afb4144a1f6fd8d2ca17a180786b69acc140d282b71a49"
  },
  "kernelspec": {
   "display_name": "Python 3 (ipykernel)",
   "language": "python",
   "name": "python3"
  },
  "language_info": {
   "codemirror_mode": {
    "name": "ipython",
    "version": 3
   },
   "file_extension": ".py",
   "mimetype": "text/x-python",
   "name": "python",
   "nbconvert_exporter": "python",
   "pygments_lexer": "ipython3",
   "version": "3.9.13"
  },
  "toc": {
   "base_numbering": 1,
   "nav_menu": {},
   "number_sections": false,
   "sideBar": true,
   "skip_h1_title": false,
   "title_cell": "Table of Contents",
   "title_sidebar": "Contents",
   "toc_cell": false,
   "toc_position": {
    "height": "calc(100% - 180px)",
    "left": "10px",
    "top": "150px",
    "width": "232.094px"
   },
   "toc_section_display": true,
   "toc_window_display": true
  },
  "varInspector": {
   "cols": {
    "lenName": 16,
    "lenType": 16,
    "lenVar": 40
   },
   "kernels_config": {
    "python": {
     "delete_cmd_postfix": "",
     "delete_cmd_prefix": "del ",
     "library": "var_list.py",
     "varRefreshCmd": "print(var_dic_list())"
    },
    "r": {
     "delete_cmd_postfix": ") ",
     "delete_cmd_prefix": "rm(",
     "library": "var_list.r",
     "varRefreshCmd": "cat(var_dic_list()) "
    }
   },
   "types_to_exclude": [
    "module",
    "function",
    "builtin_function_or_method",
    "instance",
    "_Feature"
   ],
   "window_display": false
  }
 },
 "nbformat": 4,
 "nbformat_minor": 4
}
