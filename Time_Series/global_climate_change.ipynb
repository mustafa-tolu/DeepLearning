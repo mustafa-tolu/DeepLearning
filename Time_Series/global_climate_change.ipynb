{
 "cells": [
  {
   "cell_type": "markdown",
   "id": "e7a524f5-b8e9-4770-aad1-0a571e14e2f1",
   "metadata": {},
   "source": [
    "GLOBAL CLIMATE CHANGE"
   ]
  },
  {
   "cell_type": "code",
   "execution_count": null,
   "id": "c724aba5-5987-44d8-8278-e0cc029458a1",
   "metadata": {},
   "outputs": [],
   "source": [
    "import numpy as np\n",
    "import pandas as pd\n",
    "import seaborn as sns\n",
    "import matplotlib as plt\n",
    "import json\n",
    "\n",
    "import warnings\n",
    "\n",
    "warnings.filterwarnings(\"ignore\")\n",
    "warnings.warn(\"this will not show\")\n",
    "\n",
    "%matplotlib inline\n",
    "# %matplotlib notebook\n",
    "\n",
    "plt.rcParams[\"figure.figsize\"] = (10, 6)\n",
    "\n",
    "# from matplotlib import style\n",
    "# style.use('dark_background')\n",
    "\n",
    "sns.set_style(\"whitegrid\")\n",
    "pd.set_option('display.float_format', lambda x: '%.3f' % x)\n",
    "\n",
    "# Set it None to display all rows in the dataframe\n",
    "# pd.set_option('display.max_rows', None)\n",
    "\n",
    "# Set it to None to display all columns in the dataframe\n",
    "pd.set_option('display.max_columns', None)"
   ]
  },
  {
   "cell_type": "code",
   "execution_count": null,
   "id": "6f994c07-941b-4576-befc-1cdd380c3e9b",
   "metadata": {},
   "outputs": [],
   "source": [
    "df0_cntry = pd.read_csv(\"\\data-society-global-climate-change\\Data_GlobalLandTemperatures_2023\\GlobalLandTempraturesByCountry.csv\")\n",
    "df0_city = pd.read_csv(\"\\data-society-global-climate-change\\Data_GlobalLandTemperatures_2023\\GlobalLandTempraturesByMajorCity.csv\")\n",
    "df0_state = pd.read_csv(\"\\data-society-global-climate-change\\Data_GlobalLandTemperatures_2023\\GlobalLandTempraturesByState.csv\")\n",
    "df0_tmpr = pd.read_csv(\"\\data-society-global-climate-change\\Data_GlobalLandTemperatures_2023\\GlobalTempratures.csv\")"
   ]
  }
 ],
 "metadata": {
  "kernelspec": {
   "display_name": "Python 3 (ipykernel)",
   "language": "python",
   "name": "python3"
  },
  "language_info": {
   "codemirror_mode": {
    "name": "ipython",
    "version": 3
   },
   "file_extension": ".py",
   "mimetype": "text/x-python",
   "name": "python",
   "nbconvert_exporter": "python",
   "pygments_lexer": "ipython3",
   "version": "3.9.17"
  },
  "widgets": {
   "application/vnd.jupyter.widget-state+json": {
    "state": {},
    "version_major": 2,
    "version_minor": 0
   }
  }
 },
 "nbformat": 4,
 "nbformat_minor": 5
}
