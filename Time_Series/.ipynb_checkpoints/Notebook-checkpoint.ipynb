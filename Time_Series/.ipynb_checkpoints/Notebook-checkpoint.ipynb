{
 "cells": [
  {
   "cell_type": "code",
   "execution_count": null,
   "id": "464ecb8a-e345-4cff-a906-466641817842",
   "metadata": {},
   "outputs": [],
   "source": [
    "import numpy as np\n",
    "import pandas as pd\n",
    "import seaborn as sns\n",
    "import matplotlib as plt\n",
    "import json\n",
    "\n",
    "import warnings\n",
    "\n",
    "warnings.filterwarnings(\"ignore\")\n",
    "warnings.warn(\"this will not show\")\n",
    "\n",
    "%matplotlib inline\n",
    "# %matplotlib notebook\n",
    "\n",
    "plt.rcParams[\"figure.figsize\"] = (10, 6)\n",
    "\n",
    "# from matplotlib import style\n",
    "# style.use('dark_background')\n",
    "\n",
    "sns.set_style(\"whitegrid\")\n",
    "pd.set_option('display.float_format', lambda x: '%.3f' % x)\n",
    "\n",
    "# Set it None to display all rows in the dataframe\n",
    "# pd.set_option('display.max_rows', None)\n",
    "\n",
    "# Set it to None to display all columns in the dataframe\n",
    "pd.set_option('display.max_columns', None)"
   ]
  },
  {
   "cell_type": "code",
   "execution_count": null,
   "id": "a9b955c2-80e1-4715-91a7-95ef64b37f90",
   "metadata": {},
   "outputs": [],
   "source": [
    "df0_cntry = pd.read_csv(\"\\data-society-global-climate-change\\Data_GlobalLandTemperatures_2023\\GlobalLandTempraturesByCountry.csv\")\n",
    "df0_city = pd.read_csv(\"\\data-society-global-climate-change\\Data_GlobalLandTemperatures_2023\\GlobalLandTempraturesByMajorCity.csv\")\n",
    "df0_state = pd.read_csv(\"\\data-society-global-climate-change\\Data_GlobalLandTemperatures_2023\\GlobalLandTempraturesByState.csv\")\n",
    "df0_tmpr = pd.read_csv(\"\\data-society-global-climate-change\\Data_GlobalLandTemperatures_2023\\GlobalTempratures.csv\")"
   ]
  },
  {
   "cell_type": "code",
   "execution_count": null,
   "id": "c179456a-772b-4290-a08a-402063afa137",
   "metadata": {},
   "outputs": [],
   "source": [
    "df_cntry = df0_cntry.copy()\n",
    "df_city = df0_city.copy()\n",
    "df_state = df0_state.copy()\n",
    "df_tmpr = df0_tmpr.copy()"
   ]
  },
  {
   "cell_type": "code",
   "execution_count": null,
   "id": "aee45f79-c7bc-49f0-9363-5ef0e6363855",
   "metadata": {},
   "outputs": [],
   "source": [
    "# start data analysis"
   ]
  }
 ],
 "metadata": {
  "kernelspec": {
   "display_name": "Python 3 (ipykernel)",
   "language": "python",
   "name": "python3"
  },
  "language_info": {
   "codemirror_mode": {
    "name": "ipython",
    "version": 3
   },
   "file_extension": ".py",
   "mimetype": "text/x-python",
   "name": "python",
   "nbconvert_exporter": "python",
   "pygments_lexer": "ipython3",
   "version": "3.9.17"
  },
  "widgets": {
   "application/vnd.jupyter.widget-state+json": {
    "state": {},
    "version_major": 2,
    "version_minor": 0
   }
  }
 },
 "nbformat": 4,
 "nbformat_minor": 5
}
